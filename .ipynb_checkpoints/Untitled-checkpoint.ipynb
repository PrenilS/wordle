{
 "cells": [
  {
   "cell_type": "markdown",
   "id": "103bd9b9-f07b-4a71-9788-842966f9d787",
   "metadata": {},
   "source": [
    "## Import packages"
   ]
  },
  {
   "cell_type": "code",
   "execution_count": 1,
   "id": "94751327-e49d-4d1e-ba31-77db8bf9594e",
   "metadata": {
    "execution": {
     "iopub.execute_input": "2022-02-26T21:05:52.221762Z",
     "iopub.status.busy": "2022-02-26T21:05:52.221762Z",
     "iopub.status.idle": "2022-02-26T21:05:53.393652Z",
     "shell.execute_reply": "2022-02-26T21:05:53.393652Z",
     "shell.execute_reply.started": "2022-02-26T21:05:52.221762Z"
    },
    "tags": []
   },
   "outputs": [],
   "source": [
    "import re\n",
    "import math\n",
    "import matplotlib.pyplot as plt\n",
    "import pandas as pd\n",
    "import numpy as np\n",
    "import random\n",
    "import enchant"
   ]
  },
  {
   "cell_type": "markdown",
   "id": "b564d898-4174-4548-90d9-40198372bcee",
   "metadata": {},
   "source": [
    "## Load words"
   ]
  },
  {
   "cell_type": "code",
   "execution_count": 2,
   "id": "c881dca0-4977-4eed-833a-21d42dc444cc",
   "metadata": {
    "execution": {
     "iopub.execute_input": "2022-02-26T21:06:00.076017Z",
     "iopub.status.busy": "2022-02-26T21:06:00.076017Z",
     "iopub.status.idle": "2022-02-26T21:06:00.107266Z",
     "shell.execute_reply": "2022-02-26T21:06:00.107266Z",
     "shell.execute_reply.started": "2022-02-26T21:06:00.076017Z"
    },
    "tags": []
   },
   "outputs": [],
   "source": [
    "def load_words(file):\n",
    "    file_to_open = file\n",
    "    with open(file_to_open) as word_file:\n",
    "        valid_words = set(word_file.read().split())\n",
    "    return valid_words"
   ]
  },
  {
   "cell_type": "code",
   "execution_count": 3,
   "id": "9a16c992-2337-4b3c-ab56-e93582cf9f4e",
   "metadata": {
    "execution": {
     "iopub.execute_input": "2022-02-26T21:06:00.294769Z",
     "iopub.status.busy": "2022-02-26T21:06:00.294769Z",
     "iopub.status.idle": "2022-02-26T21:06:00.326018Z",
     "shell.execute_reply": "2022-02-26T21:06:00.326018Z",
     "shell.execute_reply.started": "2022-02-26T21:06:00.294769Z"
    },
    "tags": []
   },
   "outputs": [],
   "source": [
    "words = list(load_words('allwords.txt'))\n",
    "answerlist = list(load_words('answers.txt'))"
   ]
  },
  {
   "cell_type": "code",
   "execution_count": 4,
   "id": "94911466-ee19-4ed5-b865-87feb15f039e",
   "metadata": {
    "execution": {
     "iopub.execute_input": "2022-02-26T21:06:01.122909Z",
     "iopub.status.busy": "2022-02-26T21:06:01.122909Z",
     "iopub.status.idle": "2022-02-26T21:06:01.138531Z",
     "shell.execute_reply": "2022-02-26T21:06:01.138531Z",
     "shell.execute_reply.started": "2022-02-26T21:06:01.122909Z"
    },
    "tags": []
   },
   "outputs": [],
   "source": [
    "wordsarr=list(words)"
   ]
  },
  {
   "cell_type": "markdown",
   "id": "797c0ae0-a88d-4ab0-8cab-78f2d8e13bdd",
   "metadata": {},
   "source": [
    "# Analysis and visualisation\n",
    "Understand the frequency of letter usage per 5 letter word in the whole corpus and by position in those words"
   ]
  },
  {
   "cell_type": "code",
   "execution_count": 5,
   "id": "3ab73676-642c-4d5c-9f51-c4c7bc23c629",
   "metadata": {
    "execution": {
     "iopub.execute_input": "2022-02-26T21:06:02.701048Z",
     "iopub.status.busy": "2022-02-26T21:06:02.701048Z",
     "iopub.status.idle": "2022-02-26T21:06:02.716677Z",
     "shell.execute_reply": "2022-02-26T21:06:02.716677Z",
     "shell.execute_reply.started": "2022-02-26T21:06:02.701048Z"
    },
    "tags": []
   },
   "outputs": [],
   "source": [
    "def letter_freq(wordlist):\n",
    "    freq = {}\n",
    "    for word in wordlist:\n",
    "        pos = 1\n",
    "        for letter in word:\n",
    "            letter = letter.lower()\n",
    "            if letter in freq.keys():\n",
    "                freq[letter][pos-1]+=1\n",
    "            else:\n",
    "                freq[letter]=[0, 0, 0, 0, 0]\n",
    "                freq[letter][pos-1]+=1\n",
    "            pos += 1\n",
    "    freq_df = pd.DataFrame(freq).T\n",
    "    freq_df.columns=['1','2','3','4','5']\n",
    "    freq_df['total']=freq_df['1']+freq_df['2']+freq_df['3']+freq_df['4']+freq_df['5']\n",
    "    return freq_df"
   ]
  },
  {
   "cell_type": "code",
   "execution_count": 6,
   "id": "ef485d7b-61ef-45e8-8bac-eb4c3617ec98",
   "metadata": {
    "execution": {
     "iopub.execute_input": "2022-02-26T21:06:02.888551Z",
     "iopub.status.busy": "2022-02-26T21:06:02.888551Z",
     "iopub.status.idle": "2022-02-26T21:06:02.951051Z",
     "shell.execute_reply": "2022-02-26T21:06:02.951051Z",
     "shell.execute_reply.started": "2022-02-26T21:06:02.888551Z"
    },
    "tags": []
   },
   "outputs": [
    {
     "data": {
      "text/html": [
       "<div>\n",
       "<style scoped>\n",
       "    .dataframe tbody tr th:only-of-type {\n",
       "        vertical-align: middle;\n",
       "    }\n",
       "\n",
       "    .dataframe tbody tr th {\n",
       "        vertical-align: top;\n",
       "    }\n",
       "\n",
       "    .dataframe thead th {\n",
       "        text-align: right;\n",
       "    }\n",
       "</style>\n",
       "<table border=\"1\" class=\"dataframe\">\n",
       "  <thead>\n",
       "    <tr style=\"text-align: right;\">\n",
       "      <th></th>\n",
       "      <th>1</th>\n",
       "      <th>2</th>\n",
       "      <th>3</th>\n",
       "      <th>4</th>\n",
       "      <th>5</th>\n",
       "      <th>total</th>\n",
       "    </tr>\n",
       "  </thead>\n",
       "  <tbody>\n",
       "    <tr>\n",
       "      <th>r</th>\n",
       "      <td>628</td>\n",
       "      <td>940</td>\n",
       "      <td>1198</td>\n",
       "      <td>717</td>\n",
       "      <td>672</td>\n",
       "      <td>4155</td>\n",
       "    </tr>\n",
       "    <tr>\n",
       "      <th>a</th>\n",
       "      <td>736</td>\n",
       "      <td>2263</td>\n",
       "      <td>1236</td>\n",
       "      <td>1072</td>\n",
       "      <td>679</td>\n",
       "      <td>5986</td>\n",
       "    </tr>\n",
       "    <tr>\n",
       "      <th>t</th>\n",
       "      <td>815</td>\n",
       "      <td>239</td>\n",
       "      <td>616</td>\n",
       "      <td>898</td>\n",
       "      <td>727</td>\n",
       "      <td>3295</td>\n",
       "    </tr>\n",
       "    <tr>\n",
       "      <th>s</th>\n",
       "      <td>1565</td>\n",
       "      <td>93</td>\n",
       "      <td>533</td>\n",
       "      <td>516</td>\n",
       "      <td>3958</td>\n",
       "      <td>6665</td>\n",
       "    </tr>\n",
       "    <tr>\n",
       "      <th>c</th>\n",
       "      <td>921</td>\n",
       "      <td>176</td>\n",
       "      <td>392</td>\n",
       "      <td>409</td>\n",
       "      <td>127</td>\n",
       "      <td>2025</td>\n",
       "    </tr>\n",
       "  </tbody>\n",
       "</table>\n",
       "</div>"
      ],
      "text/plain": [
       "      1     2     3     4     5  total\n",
       "r   628   940  1198   717   672   4155\n",
       "a   736  2263  1236  1072   679   5986\n",
       "t   815   239   616   898   727   3295\n",
       "s  1565    93   533   516  3958   6665\n",
       "c   921   176   392   409   127   2025"
      ]
     },
     "execution_count": 6,
     "metadata": {},
     "output_type": "execute_result"
    }
   ],
   "source": [
    "freq = letter_freq(words)\n",
    "freq.head()"
   ]
  },
  {
   "cell_type": "markdown",
   "id": "e2d93097-cb59-4773-bf23-40d6a81c6f99",
   "metadata": {},
   "source": [
    "### S, B, P, M, A, D and C are very high freq for the first letter and the vowels for the second."
   ]
  },
  {
   "cell_type": "code",
   "execution_count": 60,
   "id": "aeb5fd39-36c9-4216-b010-7c9e6c309ace",
   "metadata": {
    "execution": {
     "iopub.execute_input": "2022-02-25T21:54:05.638078Z",
     "iopub.status.busy": "2022-02-25T21:54:05.638078Z",
     "iopub.status.idle": "2022-02-25T21:54:06.294341Z",
     "shell.execute_reply": "2022-02-25T21:54:06.294341Z",
     "shell.execute_reply.started": "2022-02-25T21:54:05.638078Z"
    },
    "tags": []
   },
   "outputs": [
    {
     "data": {
      "image/png": "[encoded data removed]",
      "text/plain": [
       "<Figure size 1080x1440 with 2 Axes>"
      ]
     },
     "metadata": {
      "needs_background": "light"
     },
     "output_type": "display_data"
    }
   ],
   "source": [
    "import seaborn as sns\n",
    "ax=sns.heatmap(freq[['1','2','3','4','5']], linewidths=.5, xticklabels=1, yticklabels=1, annot=True)\n",
    "plt.rcParams[\"figure.figsize\"] = (15,30)\n",
    "plt.show()"
   ]
  },
  {
   "cell_type": "markdown",
   "id": "6d45b9d5-d8b1-4e85-bf56-406bd6f52947",
   "metadata": {},
   "source": [
    "### Overall letter frequencies:"
   ]
  },
  {
   "cell_type": "code",
   "execution_count": 106,
   "id": "54c36831-8b4c-4bd2-9ed1-b77394a4e130",
   "metadata": {
    "execution": {
     "iopub.execute_input": "2022-02-26T15:40:16.345032Z",
     "iopub.status.busy": "2022-02-26T15:40:16.345032Z",
     "iopub.status.idle": "2022-02-26T15:40:16.563780Z",
     "shell.execute_reply": "2022-02-26T15:40:16.563780Z",
     "shell.execute_reply.started": "2022-02-26T15:40:16.345032Z"
    },
    "tags": []
   },
   "outputs": [
    {
     "data": {
      "image/png": "[encoded data removed]",
      "text/plain": [
       "<Figure size 720x360 with 1 Axes>"
      ]
     },
     "metadata": {
      "needs_background": "light"
     },
     "output_type": "display_data"
    }
   ],
   "source": [
    "sns.barplot(x=freq.index, y=freq['total'])\n",
    "plt.rcParams[\"figure.figsize\"] = (5,5)\n",
    "plt.show()"
   ]
  },
  {
   "cell_type": "markdown",
   "id": "794c08d7-726c-433f-87af-275748aa0349",
   "metadata": {},
   "source": [
    "# More indepth analysis\n",
    "Based on orange, green and grey letters, filter out the remaining possible words from the corpus"
   ]
  },
  {
   "cell_type": "code",
   "execution_count": 6,
   "id": "ae3f992e-a1a1-4a55-86f5-4e690d57e740",
   "metadata": {
    "execution": {
     "iopub.execute_input": "2022-02-25T19:50:57.086553Z",
     "iopub.status.busy": "2022-02-25T19:50:57.086553Z",
     "iopub.status.idle": "2022-02-25T19:50:57.117809Z",
     "shell.execute_reply": "2022-02-25T19:50:57.117809Z",
     "shell.execute_reply.started": "2022-02-25T19:50:57.086553Z"
    },
    "tags": []
   },
   "outputs": [],
   "source": [
    "wordsarr = list(words)\n",
    "def orange_words(orange_letters, word):\n",
    "    if orange_letters==[]:\n",
    "        return word\n",
    "    match_all = 1\n",
    "    for letterpos in orange_letters:\n",
    "        pos = letterpos[0]\n",
    "        letter = letterpos[1]\n",
    "        pattern = \"[\"+str(letter)+\"]\"\n",
    "        X = re.finditer(pattern, word)\n",
    "        \n",
    "        try:\n",
    "            next(X)\n",
    "        except StopIteration:\n",
    "            match = 0\n",
    "        \n",
    "        X = re.finditer(pattern, word)\n",
    "        for x in X:\n",
    "            if x:\n",
    "                if x.span()[1]==pos:\n",
    "                    match=0\n",
    "                    break\n",
    "                else:\n",
    "                    match=1\n",
    "            else:\n",
    "                match=0\n",
    "        match_all = match_all*match\n",
    "    if match_all == 1:\n",
    "        return word\n",
    "\n",
    "    \n",
    "def green_words(green_letters, word):\n",
    "    if green_letters==[]:\n",
    "        return word\n",
    "    match_all = 1\n",
    "    for letterpos in green_letters:\n",
    "        pos = letterpos[0]\n",
    "        letter = letterpos[1]\n",
    "        pattern = \"[\"+str(letter)+\"]\"\n",
    "        X = re.finditer(pattern, word)\n",
    "        \n",
    "        try:\n",
    "            next(X)\n",
    "        except StopIteration:\n",
    "            match = 0\n",
    "        \n",
    "        X = re.finditer(pattern, word)\n",
    "        for x in X:\n",
    "            if x:\n",
    "                if x.span()[1]==pos:\n",
    "                    match=1\n",
    "                    break\n",
    "                else:\n",
    "                    match=0\n",
    "            else:\n",
    "                match=0\n",
    "        match_all = match_all*match\n",
    "    if match_all == 1:\n",
    "        return word\n",
    "    \n",
    "    \n",
    "def grey_words(grey_letters, green_letters, word):\n",
    "    if grey_letters==[]:\n",
    "        return word\n",
    "    match_all = 1\n",
    "    for letter in grey_letters:\n",
    "        pattern = \"[\"+str(letter)+\"]\"\n",
    "        X = re.finditer(pattern, word)\n",
    "        \n",
    "        try:\n",
    "            next(X)\n",
    "        except StopIteration:\n",
    "            match = 1\n",
    "        \n",
    "        X = re.finditer(pattern, word)\n",
    "        for x in X:\n",
    "            if x:\n",
    "                match=0\n",
    "                for letterpos in green_letters:\n",
    "                    pos = letterpos[0]\n",
    "                    letterg = letterpos[1]\n",
    "                    if letterg==letter:\n",
    "                        if x.span()[1]==pos:\n",
    "                            match=1\n",
    "                        else:\n",
    "                            match=0\n",
    "            else:\n",
    "                match=1\n",
    "            match_all = match_all*match\n",
    "    if match_all == 1:\n",
    "        return word"
   ]
  },
  {
   "cell_type": "markdown",
   "id": "9b653378-ab21-4b62-afc4-eda83a87c5e5",
   "metadata": {},
   "source": [
    "### Test a scenario\n",
    "only show words matching all 3 constraints"
   ]
  },
  {
   "cell_type": "code",
   "execution_count": 7,
   "id": "f8dfff5b-4802-4855-a944-479f4ef8f5c7",
   "metadata": {
    "execution": {
     "iopub.execute_input": "2022-02-25T19:50:58.055306Z",
     "iopub.status.busy": "2022-02-25T19:50:58.055306Z",
     "iopub.status.idle": "2022-02-25T19:50:58.086554Z",
     "shell.execute_reply": "2022-02-25T19:50:58.086554Z",
     "shell.execute_reply.started": "2022-02-25T19:50:58.055306Z"
    },
    "tags": []
   },
   "outputs": [],
   "source": [
    "def get_possible_words(wordsarr, orange_letters, green_letters, grey_letters):\n",
    "    matchesorange = []\n",
    "    matchesgreen= []\n",
    "    matchesgrey = []\n",
    "    for word in wordsarr:\n",
    "        matchorange = orange_words(orange_letters, word)\n",
    "        matchgreen = green_words(green_letters, word)\n",
    "        matchgrey = grey_words(grey_letters, green_letters, word)\n",
    "        if matchorange:\n",
    "            matchesorange.append(matchorange)\n",
    "        if matchgreen:\n",
    "            matchesgreen.append(matchgreen)\n",
    "        if matchgrey:\n",
    "            matchesgrey.append(matchgrey)\n",
    "    orange_set = set(matchesorange)\n",
    "    green_set = set(matchesgreen)\n",
    "    grey_set = set(matchesgrey)\n",
    "    return list((orange_set.intersection(green_set)).intersection(grey_set))"
   ]
  },
  {
   "cell_type": "markdown",
   "id": "f854ca11-600d-4025-83bd-415e597085ab",
   "metadata": {},
   "source": [
    "Orange: n at position 3 and y at position y\n",
    "\n",
    "Grey: s,o,r,e,s,c,a,t\n",
    "\n",
    "Green: y at position 2"
   ]
  },
  {
   "cell_type": "code",
   "execution_count": 8,
   "id": "561efde8-d3bc-43aa-9c83-1ea089d1fd0a",
   "metadata": {
    "execution": {
     "iopub.execute_input": "2022-02-25T19:50:59.091362Z",
     "iopub.status.busy": "2022-02-25T19:50:59.091362Z",
     "iopub.status.idle": "2022-02-25T19:50:59.544483Z",
     "shell.execute_reply": "2022-02-25T19:50:59.544483Z",
     "shell.execute_reply.started": "2022-02-25T19:50:59.091362Z"
    },
    "tags": []
   },
   "outputs": [],
   "source": [
    "orange = [[3,'n'],[5,'y']]\n",
    "grey = ['s','o','r','e','s','c','a','t']\n",
    "green = [[2,'y']]  \n",
    "matches = get_possible_words(wordsarr, orange, green, grey)"
   ]
  },
  {
   "cell_type": "code",
   "execution_count": 9,
   "id": "da579232-7558-48aa-bb3b-48a6771988e7",
   "metadata": {
    "execution": {
     "iopub.execute_input": "2022-02-25T19:50:59.544483Z",
     "iopub.status.busy": "2022-02-25T19:50:59.544483Z",
     "iopub.status.idle": "2022-02-25T19:50:59.560108Z",
     "shell.execute_reply": "2022-02-25T19:50:59.560108Z",
     "shell.execute_reply.started": "2022-02-25T19:50:59.544483Z"
    },
    "tags": []
   },
   "outputs": [
    {
     "data": {
      "text/plain": [
       "['lying', 'vying', 'hying', 'nymph', 'kylin', 'dying', 'nying']"
      ]
     },
     "execution_count": 9,
     "metadata": {},
     "output_type": "execute_result"
    }
   ],
   "source": [
    "matches"
   ]
  },
  {
   "cell_type": "markdown",
   "id": "5759b493-9a47-47a4-af86-4b57ad8bd8d6",
   "metadata": {
    "execution": {
     "iopub.execute_input": "2022-02-25T15:55:41.265416Z",
     "iopub.status.busy": "2022-02-25T15:55:41.265416Z",
     "iopub.status.idle": "2022-02-25T15:55:41.281045Z",
     "shell.execute_reply": "2022-02-25T15:55:41.281045Z",
     "shell.execute_reply.started": "2022-02-25T15:55:41.265416Z"
    }
   },
   "source": [
    "### Now, in order to predict what we should choose, lets give each possible word a score based on the frequencies of the letter positions."
   ]
  },
  {
   "cell_type": "code",
   "execution_count": 66,
   "id": "32791bab-6e95-43f7-8fcc-8d12b151725c",
   "metadata": {
    "execution": {
     "iopub.execute_input": "2022-02-25T23:20:10.669496Z",
     "iopub.status.busy": "2022-02-25T23:20:10.669496Z",
     "iopub.status.idle": "2022-02-25T23:20:10.700748Z",
     "shell.execute_reply": "2022-02-25T23:20:10.700748Z",
     "shell.execute_reply.started": "2022-02-25T23:20:10.669496Z"
    },
    "tags": []
   },
   "outputs": [],
   "source": [
    "def score_word(word, freq):\n",
    "    pos = 1\n",
    "    score = 0\n",
    "    letters_used=[]\n",
    "    for letter in word:\n",
    "        if letter in letters_used:\n",
    "            score += freq.loc[letter].loc[str(pos)]/2\n",
    "        else:\n",
    "            score += freq.loc[letter].loc[str(pos)]\n",
    "        if letter in 'aeiou':\n",
    "            score+=freq.loc[letter].loc[str(pos)]*0.1\n",
    "        letters_used.append(letter)\n",
    "        pos += 1\n",
    "    return score"
   ]
  },
  {
   "cell_type": "code",
   "execution_count": 11,
   "id": "e5adcfe2-5906-4f14-a780-81f2c677ed15",
   "metadata": {
    "execution": {
     "iopub.execute_input": "2022-02-25T19:51:02.575733Z",
     "iopub.status.busy": "2022-02-25T19:51:02.575733Z",
     "iopub.status.idle": "2022-02-25T19:51:02.606985Z",
     "shell.execute_reply": "2022-02-25T19:51:02.606985Z",
     "shell.execute_reply.started": "2022-02-25T19:51:02.575733Z"
    },
    "tags": []
   },
   "outputs": [
    {
     "name": "stdout",
     "output_type": "stream",
     "text": [
      "    word  score\n",
      "5  dying   2968\n",
      "4  kylin   2930\n",
      "0  lying   2859\n",
      "2  hying   2770\n",
      "6  nying   2602\n"
     ]
    }
   ],
   "source": [
    "if matches:\n",
    "    word_scores=[]\n",
    "    for word in matches:\n",
    "        word_scores.append([word, score_word(word, freq)])\n",
    "\n",
    "    word_scores=pd.DataFrame(word_scores)\n",
    "    word_scores.columns=['word', 'score']\n",
    "    word_scores=word_scores.sort_values(by=['score'],ascending=False)\n",
    "    print(word_scores.head())\n",
    "else:\n",
    "    print('No guesses')"
   ]
  },
  {
   "cell_type": "markdown",
   "id": "f1b39964-467e-44e6-8040-7b4babe18dea",
   "metadata": {},
   "source": [
    "### Based on how likely it is to have seen each letter in each of the matched words in the positions they appear, dying would seem to be the best choice. In this case, it was the right answer too."
   ]
  },
  {
   "cell_type": "markdown",
   "id": "024e804a-aef0-499a-8933-3ec81c9fb926",
   "metadata": {},
   "source": [
    "# Prediction\n",
    "Right now, we look at the current point in time and we understand the lay of the land and present the options available and try to help rank those.\n",
    "\n",
    "Predictive analytics identifies where a statistical model can replace human judgement. It a regular set of inputs and uses those to optimise some function indicating how well you are performing and thereby 'predicts' the best output given the input.\n",
    "\n",
    "## Ideally\n",
    "we would be able to observe hundreds of thousands of games being played and have recorded for each and every turn, the number of the turn, the orange, green and grey letters accumulated and the choice that the person made. A data scientist would then take this data and\n",
    "- figure out how best to structure this abnormal input data into something tabular which can be fed into a statistical model\n",
    "- figure out how to code the answers themselves to fit into a model. In this case you probably make each possible word its own category and predict the probability for each category. But with over 10,000 categories, you would need a truely, truely MASSIVE amount of data where you see each possible answer at least a few times in order to get anything useful. And even then, it would be hard.\n",
    "So for this specific problem, lets try something simpler. Our scoring function is a best analytical guess at what words are more 'typical' 5 letter words. This is a human judgement which can be replaced by a predictive model. Can we understand 'typical' more mathematically? \n",
    "\n",
    "While our green, grey and orange lists of letters and lists of lists are understandable, they are too loose for predictive work. A data scientist will need to figure out how best to represent the information in a way that if both efficient to compute and useable in modelling while trying to remain understandable. So we are getting rid of our lists and creating a a 26 X 5 matrix which can represent single words (a 1 in row 2 and column 3 if there is a 'B' as the third letter of the word) or a 'memory' of what we have already seen (2 represents green letters, 1 orange, 0.5 grey and 0 for those we havent seen).\n",
    "\n",
    "\n",
    "I create these as functions in a seperate script (wordleutils) in the interest of space. While we are at it, i also create some scaffolding to let us actually play the game instead of looking at one scenario at a time. But more on that later!\n"
   ]
  },
  {
   "cell_type": "markdown",
   "id": "9da93f8f-3cb1-46ad-bbe2-6bd8239c0766",
   "metadata": {},
   "source": [
    "## Copula Based Outlier Detection\n",
    "In looking for a way to replace the frequency scores with a real model, I stumbled upon this very good post https://towardsdatascience.com/finding-the-best-wordle-opener-with-machine-learning-ce81331c5759\n",
    "The author restructures their data in a very similar way to what we have tried. They then use outlier detection to try and predict which words are NOT outliers in the pool of all 5 letter words instead of using a sum of frequencies. Lets recreate the approach."
   ]
  },
  {
   "cell_type": "code",
   "execution_count": 7,
   "id": "b8a4dbaa-70e4-40bc-a91f-1cea5b44deb8",
   "metadata": {
    "execution": {
     "iopub.execute_input": "2022-02-26T20:33:40.858411Z",
     "iopub.status.busy": "2022-02-26T20:33:40.858411Z",
     "iopub.status.idle": "2022-02-26T20:33:41.061538Z",
     "shell.execute_reply": "2022-02-26T20:33:41.061538Z",
     "shell.execute_reply.started": "2022-02-26T20:33:40.858411Z"
    },
    "tags": []
   },
   "outputs": [
    {
     "data": {
      "text/html": [
       "<div>\n",
       "<style scoped>\n",
       "    .dataframe tbody tr th:only-of-type {\n",
       "        vertical-align: middle;\n",
       "    }\n",
       "\n",
       "    .dataframe tbody tr th {\n",
       "        vertical-align: top;\n",
       "    }\n",
       "\n",
       "    .dataframe thead th {\n",
       "        text-align: right;\n",
       "    }\n",
       "</style>\n",
       "<table border=\"1\" class=\"dataframe\">\n",
       "  <thead>\n",
       "    <tr style=\"text-align: right;\">\n",
       "      <th></th>\n",
       "      <th>a0</th>\n",
       "      <th>a1</th>\n",
       "      <th>a2</th>\n",
       "      <th>a3</th>\n",
       "      <th>a4</th>\n",
       "      <th>b0</th>\n",
       "      <th>b1</th>\n",
       "      <th>b2</th>\n",
       "      <th>b3</th>\n",
       "      <th>b4</th>\n",
       "      <th>...</th>\n",
       "      <th>y0</th>\n",
       "      <th>y1</th>\n",
       "      <th>y2</th>\n",
       "      <th>y3</th>\n",
       "      <th>y4</th>\n",
       "      <th>z0</th>\n",
       "      <th>z1</th>\n",
       "      <th>z2</th>\n",
       "      <th>z3</th>\n",
       "      <th>z4</th>\n",
       "    </tr>\n",
       "  </thead>\n",
       "  <tbody>\n",
       "    <tr>\n",
       "      <th>bassy</th>\n",
       "      <td>0.0</td>\n",
       "      <td>1.0</td>\n",
       "      <td>0.0</td>\n",
       "      <td>0.0</td>\n",
       "      <td>0.0</td>\n",
       "      <td>1.0</td>\n",
       "      <td>0.0</td>\n",
       "      <td>0.0</td>\n",
       "      <td>0.0</td>\n",
       "      <td>0.0</td>\n",
       "      <td>...</td>\n",
       "      <td>0.0</td>\n",
       "      <td>0.0</td>\n",
       "      <td>0.0</td>\n",
       "      <td>0.0</td>\n",
       "      <td>1.0</td>\n",
       "      <td>0.0</td>\n",
       "      <td>0.0</td>\n",
       "      <td>0.0</td>\n",
       "      <td>0.0</td>\n",
       "      <td>0.0</td>\n",
       "    </tr>\n",
       "    <tr>\n",
       "      <th>forex</th>\n",
       "      <td>0.0</td>\n",
       "      <td>0.0</td>\n",
       "      <td>0.0</td>\n",
       "      <td>0.0</td>\n",
       "      <td>0.0</td>\n",
       "      <td>0.0</td>\n",
       "      <td>0.0</td>\n",
       "      <td>0.0</td>\n",
       "      <td>0.0</td>\n",
       "      <td>0.0</td>\n",
       "      <td>...</td>\n",
       "      <td>0.0</td>\n",
       "      <td>0.0</td>\n",
       "      <td>0.0</td>\n",
       "      <td>0.0</td>\n",
       "      <td>0.0</td>\n",
       "      <td>0.0</td>\n",
       "      <td>0.0</td>\n",
       "      <td>0.0</td>\n",
       "      <td>0.0</td>\n",
       "      <td>0.0</td>\n",
       "    </tr>\n",
       "    <tr>\n",
       "      <th>ariot</th>\n",
       "      <td>1.0</td>\n",
       "      <td>0.0</td>\n",
       "      <td>0.0</td>\n",
       "      <td>0.0</td>\n",
       "      <td>0.0</td>\n",
       "      <td>0.0</td>\n",
       "      <td>0.0</td>\n",
       "      <td>0.0</td>\n",
       "      <td>0.0</td>\n",
       "      <td>0.0</td>\n",
       "      <td>...</td>\n",
       "      <td>0.0</td>\n",
       "      <td>0.0</td>\n",
       "      <td>0.0</td>\n",
       "      <td>0.0</td>\n",
       "      <td>0.0</td>\n",
       "      <td>0.0</td>\n",
       "      <td>0.0</td>\n",
       "      <td>0.0</td>\n",
       "      <td>0.0</td>\n",
       "      <td>0.0</td>\n",
       "    </tr>\n",
       "    <tr>\n",
       "      <th>bolos</th>\n",
       "      <td>0.0</td>\n",
       "      <td>0.0</td>\n",
       "      <td>0.0</td>\n",
       "      <td>0.0</td>\n",
       "      <td>0.0</td>\n",
       "      <td>1.0</td>\n",
       "      <td>0.0</td>\n",
       "      <td>0.0</td>\n",
       "      <td>0.0</td>\n",
       "      <td>0.0</td>\n",
       "      <td>...</td>\n",
       "      <td>0.0</td>\n",
       "      <td>0.0</td>\n",
       "      <td>0.0</td>\n",
       "      <td>0.0</td>\n",
       "      <td>0.0</td>\n",
       "      <td>0.0</td>\n",
       "      <td>0.0</td>\n",
       "      <td>0.0</td>\n",
       "      <td>0.0</td>\n",
       "      <td>0.0</td>\n",
       "    </tr>\n",
       "    <tr>\n",
       "      <th>bided</th>\n",
       "      <td>0.0</td>\n",
       "      <td>0.0</td>\n",
       "      <td>0.0</td>\n",
       "      <td>0.0</td>\n",
       "      <td>0.0</td>\n",
       "      <td>1.0</td>\n",
       "      <td>0.0</td>\n",
       "      <td>0.0</td>\n",
       "      <td>0.0</td>\n",
       "      <td>0.0</td>\n",
       "      <td>...</td>\n",
       "      <td>0.0</td>\n",
       "      <td>0.0</td>\n",
       "      <td>0.0</td>\n",
       "      <td>0.0</td>\n",
       "      <td>0.0</td>\n",
       "      <td>0.0</td>\n",
       "      <td>0.0</td>\n",
       "      <td>0.0</td>\n",
       "      <td>0.0</td>\n",
       "      <td>0.0</td>\n",
       "    </tr>\n",
       "  </tbody>\n",
       "</table>\n",
       "<p>5 rows × 130 columns</p>\n",
       "</div>"
      ],
      "text/plain": [
       "        a0   a1   a2   a3   a4   b0   b1   b2   b3   b4  ...   y0   y1   y2  \\\n",
       "bassy  0.0  1.0  0.0  0.0  0.0  1.0  0.0  0.0  0.0  0.0  ...  0.0  0.0  0.0   \n",
       "forex  0.0  0.0  0.0  0.0  0.0  0.0  0.0  0.0  0.0  0.0  ...  0.0  0.0  0.0   \n",
       "ariot  1.0  0.0  0.0  0.0  0.0  0.0  0.0  0.0  0.0  0.0  ...  0.0  0.0  0.0   \n",
       "bolos  0.0  0.0  0.0  0.0  0.0  1.0  0.0  0.0  0.0  0.0  ...  0.0  0.0  0.0   \n",
       "bided  0.0  0.0  0.0  0.0  0.0  1.0  0.0  0.0  0.0  0.0  ...  0.0  0.0  0.0   \n",
       "\n",
       "        y3   y4   z0   z1   z2   z3   z4  \n",
       "bassy  0.0  1.0  0.0  0.0  0.0  0.0  0.0  \n",
       "forex  0.0  0.0  0.0  0.0  0.0  0.0  0.0  \n",
       "ariot  0.0  0.0  0.0  0.0  0.0  0.0  0.0  \n",
       "bolos  0.0  0.0  0.0  0.0  0.0  0.0  0.0  \n",
       "bided  0.0  0.0  0.0  0.0  0.0  0.0  0.0  \n",
       "\n",
       "[5 rows x 130 columns]"
      ]
     },
     "execution_count": 7,
     "metadata": {},
     "output_type": "execute_result"
    }
   ],
   "source": [
    "from wordleutils import *\n",
    "word_letter_freq = np.zeros([len(wordsarr), 26*5])\n",
    "rw = 0\n",
    "for word in wordsarr:\n",
    "    word_arr = np.array([letter_row(letter) for letter in word_to_vec(word)])\n",
    "    for position, letter in enumerate(word_arr):\n",
    "        col = letter*5+position\n",
    "        word_letter_freq[rw, col]=1\n",
    "    rw += 1\n",
    "\n",
    "colnames=[]\n",
    "for l in 'abcdefghijklmnopqrstuvwxyz':\n",
    "    for p in [0,1,2,3,4]:\n",
    "        colnames.append(l+str(p))\n",
    "word_letter_freq = pd.DataFrame(word_letter_freq, index=wordsarr, columns=colnames)\n",
    "word_letter_freq.head()"
   ]
  },
  {
   "cell_type": "code",
   "execution_count": 198,
   "id": "b37d8c42-31a8-47d5-9199-d4afaa87e060",
   "metadata": {
    "execution": {
     "iopub.execute_input": "2022-02-26T16:27:07.175557Z",
     "iopub.status.busy": "2022-02-26T16:27:07.175557Z",
     "iopub.status.idle": "2022-02-26T16:27:07.191173Z",
     "shell.execute_reply": "2022-02-26T16:27:07.191173Z",
     "shell.execute_reply.started": "2022-02-26T16:27:07.175557Z"
    },
    "tags": []
   },
   "outputs": [
    {
     "data": {
      "text/plain": [
       "12966"
      ]
     },
     "execution_count": 198,
     "metadata": {},
     "output_type": "execute_result"
    }
   ],
   "source": [
    "len(word_letter_freq)"
   ]
  },
  {
   "cell_type": "markdown",
   "id": "01756bd9-1913-402c-945a-c86500a88741",
   "metadata": {},
   "source": [
    "### contamination is supposed to be a measure of the proportion of outliers in the data."
   ]
  },
  {
   "cell_type": "code",
   "execution_count": 199,
   "id": "735cec2b-076f-476d-8a00-3337b08cfeb6",
   "metadata": {
    "execution": {
     "iopub.execute_input": "2022-02-26T16:27:14.831922Z",
     "iopub.status.busy": "2022-02-26T16:27:14.831922Z",
     "iopub.status.idle": "2022-02-26T16:27:26.300892Z",
     "shell.execute_reply": "2022-02-26T16:27:26.300892Z",
     "shell.execute_reply.started": "2022-02-26T16:27:14.831922Z"
    },
    "tags": []
   },
   "outputs": [],
   "source": [
    "word_scores=[]\n",
    "for word in wordsarr:\n",
    "    word_scores.append([word, score_word(word, freq)])\n",
    "word_scores=pd.DataFrame(word_scores)\n",
    "word_scores.columns=['word', 'score']\n",
    "word_scores=word_scores.sort_values(by=['score'],ascending=False)"
   ]
  },
  {
   "cell_type": "code",
   "execution_count": 200,
   "id": "85f87917-4585-48b4-8654-f1e3f814873f",
   "metadata": {
    "execution": {
     "iopub.execute_input": "2022-02-26T16:27:26.300892Z",
     "iopub.status.busy": "2022-02-26T16:27:26.300892Z",
     "iopub.status.idle": "2022-02-26T16:27:26.316517Z",
     "shell.execute_reply": "2022-02-26T16:27:26.316517Z",
     "shell.execute_reply.started": "2022-02-26T16:27:26.300892Z"
    },
    "tags": []
   },
   "outputs": [
    {
     "data": {
      "text/plain": [
       "count    12966.000000\n",
       "mean      5801.071495\n",
       "std       1897.872627\n",
       "min       1110.300000\n",
       "25%       4321.750000\n",
       "50%       5483.600000\n",
       "75%       7271.000000\n",
       "max      11586.300000\n",
       "Name: score, dtype: float64"
      ]
     },
     "execution_count": 200,
     "metadata": {},
     "output_type": "execute_result"
    }
   ],
   "source": [
    "word_scores['score']=pd.to_numeric(word_scores['score'])\n",
    "word_scores['score'].describe(include=['object', 'float', 'int'])"
   ]
  },
  {
   "cell_type": "code",
   "execution_count": 202,
   "id": "875de8c4-e053-4fe6-b5c6-df8032c4471c",
   "metadata": {
    "execution": {
     "iopub.execute_input": "2022-02-26T16:27:31.363495Z",
     "iopub.status.busy": "2022-02-26T16:27:31.363495Z",
     "iopub.status.idle": "2022-02-26T16:27:31.394739Z",
     "shell.execute_reply": "2022-02-26T16:27:31.394739Z",
     "shell.execute_reply.started": "2022-02-26T16:27:31.363495Z"
    },
    "tags": []
   },
   "outputs": [
    {
     "name": "stdout",
     "output_type": "stream",
     "text": [
      "12966 0 0.0\n"
     ]
    }
   ],
   "source": [
    "#stupid outlier count\n",
    "iqr = 7249.300000 - 4312.775000\n",
    "outliers = sum(word_scores['score']< 4312.775000-1.5*iqr)+sum(word_scores['score']> 7249.300000+1.5*iqr)\n",
    "total = len(word_scores)\n",
    "print(total, outliers, outliers/total)"
   ]
  },
  {
   "cell_type": "markdown",
   "id": "ca507da0-e217-4076-8c94-54a30cc0e9e5",
   "metadata": {},
   "source": [
    "None of them!"
   ]
  },
  {
   "cell_type": "code",
   "execution_count": 203,
   "id": "6297bb11-af07-4fc0-8fd3-0ca5c46d9be1",
   "metadata": {
    "execution": {
     "iopub.execute_input": "2022-02-26T16:27:35.553670Z",
     "iopub.status.busy": "2022-02-26T16:27:35.553670Z",
     "iopub.status.idle": "2022-02-26T16:27:35.725548Z",
     "shell.execute_reply": "2022-02-26T16:27:35.725548Z",
     "shell.execute_reply.started": "2022-02-26T16:27:35.553670Z"
    },
    "tags": []
   },
   "outputs": [
    {
     "data": {
      "image/png": "[encoded data removed]",
      "text/plain": [
       "<Figure size 360x360 with 1 Axes>"
      ]
     },
     "metadata": {
      "needs_background": "light"
     },
     "output_type": "display_data"
    }
   ],
   "source": [
    "plt.hist(word_scores['score'], density=True, bins=50)\n",
    "plt.rcParams[\"figure.figsize\"] = (5,5)\n",
    "plt.show()"
   ]
  },
  {
   "cell_type": "markdown",
   "id": "3af0361a-9e89-477d-bbba-33202c01d033",
   "metadata": {},
   "source": [
    "### lets use the answer list distribution to guage outliers"
   ]
  },
  {
   "cell_type": "code",
   "execution_count": 129,
   "id": "c725212f-b39e-4599-871b-608075af483b",
   "metadata": {
    "execution": {
     "iopub.execute_input": "2022-02-26T15:53:31.506452Z",
     "iopub.status.busy": "2022-02-26T15:53:31.506452Z",
     "iopub.status.idle": "2022-02-26T15:53:33.740835Z",
     "shell.execute_reply": "2022-02-26T15:53:33.740835Z",
     "shell.execute_reply.started": "2022-02-26T15:53:31.506452Z"
    },
    "tags": []
   },
   "outputs": [
    {
     "data": {
      "image/png": "[encoded data removed]",
      "text/plain": [
       "<Figure size 360x360 with 1 Axes>"
      ]
     },
     "metadata": {
      "needs_background": "light"
     },
     "output_type": "display_data"
    }
   ],
   "source": [
    "word_scores2=[]\n",
    "for word in answerlist:\n",
    "    word_scores2.append([word, score_word(word, freq)])\n",
    "word_scores2=pd.DataFrame(word_scores2)\n",
    "word_scores2.columns=['word', 'score']\n",
    "word_scores2=word_scores2.sort_values(by=['score'],ascending=False)\n",
    "plt.hist(word_scores2['score'], density=True, bins=50)\n",
    "plt.rcParams[\"figure.figsize\"] = (5,5)\n",
    "plt.show()"
   ]
  },
  {
   "cell_type": "code",
   "execution_count": 130,
   "id": "d3717196-6eb5-4f49-bb0c-dd931f59f924",
   "metadata": {
    "execution": {
     "iopub.execute_input": "2022-02-26T15:53:33.740835Z",
     "iopub.status.busy": "2022-02-26T15:53:33.740835Z",
     "iopub.status.idle": "2022-02-26T15:53:33.756461Z",
     "shell.execute_reply": "2022-02-26T15:53:33.756461Z",
     "shell.execute_reply.started": "2022-02-26T15:53:33.740835Z"
    },
    "tags": []
   },
   "outputs": [
    {
     "data": {
      "text/plain": [
       "count    2309.000000\n",
       "mean     4754.309485\n",
       "std      1127.837065\n",
       "min      1698.300000\n",
       "25%      3952.600000\n",
       "50%      4698.200000\n",
       "75%      5502.200000\n",
       "max      8857.300000\n",
       "Name: score, dtype: float64"
      ]
     },
     "execution_count": 130,
     "metadata": {},
     "output_type": "execute_result"
    }
   ],
   "source": [
    "word_scores2['score'].describe(include=['object', 'float', 'int'])"
   ]
  },
  {
   "cell_type": "code",
   "execution_count": 204,
   "id": "e342fa26-5329-4aa8-ada9-1ff450e96aaa",
   "metadata": {
    "execution": {
     "iopub.execute_input": "2022-02-26T16:27:42.178929Z",
     "iopub.status.busy": "2022-02-26T16:27:42.178929Z",
     "iopub.status.idle": "2022-02-26T16:27:42.194551Z",
     "shell.execute_reply": "2022-02-26T16:27:42.194551Z",
     "shell.execute_reply.started": "2022-02-26T16:27:42.178929Z"
    },
    "tags": []
   },
   "outputs": [
    {
     "name": "stdout",
     "output_type": "stream",
     "text": [
      "12966 2318 0.17877525836803948\n"
     ]
    }
   ],
   "source": [
    "#stupid outlier count\n",
    "iqr = 5502.200000 - 3952.600000\n",
    "outliers = sum(word_scores['score']< 3952.600000-1.5*iqr)+sum(word_scores['score']> 5502.200000+1.5*iqr)\n",
    "total = len(word_scores)\n",
    "print(total, outliers, outliers/total)"
   ]
  },
  {
   "cell_type": "markdown",
   "id": "5792914e-8479-4701-b412-78f8afabdf47",
   "metadata": {},
   "source": [
    "## Much better. Lets try 17%"
   ]
  },
  {
   "cell_type": "code",
   "execution_count": 284,
   "id": "f94e93ab-f6e6-46e0-ab11-ffa928511881",
   "metadata": {
    "execution": {
     "iopub.execute_input": "2022-02-26T16:48:54.059073Z",
     "iopub.status.busy": "2022-02-26T16:48:54.059073Z",
     "iopub.status.idle": "2022-02-26T16:48:54.512197Z",
     "shell.execute_reply": "2022-02-26T16:48:54.512197Z",
     "shell.execute_reply.started": "2022-02-26T16:48:54.059073Z"
    },
    "tags": []
   },
   "outputs": [
    {
     "data": {
      "text/plain": [
       "COPOD(contamination=0.17, n_jobs=1)"
      ]
     },
     "execution_count": 284,
     "metadata": {},
     "output_type": "execute_result"
    }
   ],
   "source": [
    "from pyod.models.copod import COPOD\n",
    "copod_model = COPOD(contamination=0.17)\n",
    "copod_model.fit(word_letter_freq)"
   ]
  },
  {
   "cell_type": "code",
   "execution_count": 285,
   "id": "3f23d1ba-8cc3-418f-ae32-ec9815bd679b",
   "metadata": {
    "execution": {
     "iopub.execute_input": "2022-02-26T16:48:54.512197Z",
     "iopub.status.busy": "2022-02-26T16:48:54.512197Z",
     "iopub.status.idle": "2022-02-26T16:48:54.543457Z",
     "shell.execute_reply": "2022-02-26T16:48:54.543457Z",
     "shell.execute_reply.started": "2022-02-26T16:48:54.512197Z"
    },
    "tags": []
   },
   "outputs": [],
   "source": [
    "word_letter_freq['score'] = copod_model.decision_scores_\n",
    "word_letter_freq.sort_values('score',inplace=True)\n",
    "word_letter_freq['rank'] = range(1,len(word_letter_freq)+1)"
   ]
  },
  {
   "cell_type": "code",
   "execution_count": 286,
   "id": "1b0f0e7f-8bd3-4478-a2c3-2d6f4f53db95",
   "metadata": {
    "execution": {
     "iopub.execute_input": "2022-02-26T16:48:54.543457Z",
     "iopub.status.busy": "2022-02-26T16:48:54.543457Z",
     "iopub.status.idle": "2022-02-26T16:48:54.637196Z",
     "shell.execute_reply": "2022-02-26T16:48:54.637196Z",
     "shell.execute_reply.started": "2022-02-26T16:48:54.543457Z"
    },
    "tags": []
   },
   "outputs": [
    {
     "name": "stderr",
     "output_type": "stream",
     "text": [
      "t:\\testcode\\pythonuservenv\\prenils\\lib\\site-packages\\ipykernel_launcher.py:1: FutureWarning: The signature of `Series.to_csv` was aligned to that of `DataFrame.to_csv`, and argument 'header' will change its default value from False to True: please pass an explicit value to suppress this warning.\n",
      "  \"\"\"Entry point for launching an IPython kernel.\n"
     ]
    },
    {
     "data": {
      "text/plain": [
       "bones    1\n",
       "sains    2\n",
       "rones    3\n",
       "sades    4\n",
       "geres    5\n",
       "Name: rank, dtype: int32"
      ]
     },
     "execution_count": 286,
     "metadata": {},
     "output_type": "execute_result"
    }
   ],
   "source": [
    "word_letter_freq['rank'].to_csv('freq_rank.csv')\n",
    "word_letter_freq['rank'].head()"
   ]
  },
  {
   "cell_type": "markdown",
   "id": "fb036b46-e463-4d70-9cd0-318dbde7edaa",
   "metadata": {},
   "source": [
    "## lets see how it works with the same example as before but with a little less information. It was a bit too constrained already."
   ]
  },
  {
   "cell_type": "code",
   "execution_count": 222,
   "id": "4d9e04c0-c2cd-486e-8e2d-357412c89774",
   "metadata": {
    "execution": {
     "iopub.execute_input": "2022-02-26T16:29:09.890589Z",
     "iopub.status.busy": "2022-02-26T16:29:09.890589Z",
     "iopub.status.idle": "2022-02-26T16:29:09.906211Z",
     "shell.execute_reply": "2022-02-26T16:29:09.906211Z",
     "shell.execute_reply.started": "2022-02-26T16:29:09.890589Z"
    },
    "tags": []
   },
   "outputs": [],
   "source": [
    "orange = [[3,'n']]\n",
    "grey = ['c','a','t']\n",
    "green = []"
   ]
  },
  {
   "cell_type": "code",
   "execution_count": 223,
   "id": "fa04d0be-c242-4668-88fb-91c7fe9f8e07",
   "metadata": {
    "execution": {
     "iopub.execute_input": "2022-02-26T16:29:10.249960Z",
     "iopub.status.busy": "2022-02-26T16:29:10.249960Z",
     "iopub.status.idle": "2022-02-26T16:29:10.281206Z",
     "shell.execute_reply": "2022-02-26T16:29:10.281206Z",
     "shell.execute_reply.started": "2022-02-26T16:29:10.249960Z"
    },
    "tags": []
   },
   "outputs": [
    {
     "data": {
      "text/plain": [
       "array([[0.5, 0.5, 0.5, 0.5, 0.5],\n",
       "       [0. , 0. , 0. , 0. , 0. ],\n",
       "       [0.5, 0.5, 0.5, 0.5, 0.5],\n",
       "       [0. , 0. , 0. , 0. , 0. ],\n",
       "       [0. , 0. , 0. , 0. , 0. ],\n",
       "       [0. , 0. , 0. , 0. , 0. ],\n",
       "       [0. , 0. , 0. , 0. , 0. ],\n",
       "       [0. , 0. , 0. , 0. , 0. ],\n",
       "       [0. , 0. , 0. , 0. , 0. ],\n",
       "       [0. , 0. , 0. , 0. , 0. ],\n",
       "       [0. , 0. , 0. , 0. , 0. ],\n",
       "       [0. , 0. , 0. , 0. , 0. ],\n",
       "       [0. , 0. , 0. , 0. , 0. ],\n",
       "       [0. , 0. , 1. , 0. , 0. ],\n",
       "       [0. , 0. , 0. , 0. , 0. ],\n",
       "       [0. , 0. , 0. , 0. , 0. ],\n",
       "       [0. , 0. , 0. , 0. , 0. ],\n",
       "       [0. , 0. , 0. , 0. , 0. ],\n",
       "       [0. , 0. , 0. , 0. , 0. ],\n",
       "       [0.5, 0.5, 0.5, 0.5, 0.5],\n",
       "       [0. , 0. , 0. , 0. , 0. ],\n",
       "       [0. , 0. , 0. , 0. , 0. ],\n",
       "       [0. , 0. , 0. , 0. , 0. ],\n",
       "       [0. , 0. , 0. , 0. , 0. ],\n",
       "       [0. , 0. , 0. , 0. , 0. ],\n",
       "       [0. , 0. , 0. , 0. , 0. ]])"
      ]
     },
     "execution_count": 223,
     "metadata": {},
     "output_type": "execute_result"
    }
   ],
   "source": [
    "memory = create_memory()\n",
    "for i in grey:\n",
    "    row = letter_row(i)\n",
    "    memory[row]=0.5\n",
    "for i in orange:\n",
    "    row = letter_row(i[1])\n",
    "    col=i[0]-1\n",
    "    memory[row,col]=1\n",
    "for i in green:\n",
    "    row = letter_row(i[1])\n",
    "    col=i[0]-1\n",
    "    memory[row,col]=2\n",
    "memory"
   ]
  },
  {
   "cell_type": "markdown",
   "id": "b1851f09-e794-4243-9b1e-d2add4c5f28d",
   "metadata": {},
   "source": [
    "## Frequency based"
   ]
  },
  {
   "cell_type": "code",
   "execution_count": 224,
   "id": "d046b6f0-8df9-48f2-bec9-0aa901d686a5",
   "metadata": {
    "execution": {
     "iopub.execute_input": "2022-02-26T16:29:11.656199Z",
     "iopub.status.busy": "2022-02-26T16:29:11.656199Z",
     "iopub.status.idle": "2022-02-26T16:29:15.562424Z",
     "shell.execute_reply": "2022-02-26T16:29:15.562424Z",
     "shell.execute_reply.started": "2022-02-26T16:29:11.656199Z"
    },
    "tags": []
   },
   "outputs": [
    {
     "name": "stdout",
     "output_type": "stream",
     "text": [
      "[['noles', 9996.3], ['sorns', 9814.6], ['noses', 9681.3], ['nomes', 9659.3], ['snies', 9583.8], ['nodes', 9538.3], ['snees', 9397.9], ['noyes', 9361.3], ['noxes', 9281.3], ['porns', 9107.6]]\n"
     ]
    }
   ],
   "source": [
    "matches = get_possible_words(memory, wordsarr)\n",
    "word_scores=[]\n",
    "for word in matches:\n",
    "    word_scores.append([word, score_word(word, freq)])\n",
    "    #word_scores.append([word, score_word(word, memory, freq)])\n",
    "sorted_list = sorted(word_scores, key = lambda x: (x[1]), reverse=True)\n",
    "print(sorted_list[0:10])"
   ]
  },
  {
   "cell_type": "markdown",
   "id": "6ab43676-d83c-4dc8-aac2-2fe64767fa28",
   "metadata": {},
   "source": [
    "## Model based"
   ]
  },
  {
   "cell_type": "code",
   "execution_count": 11,
   "id": "7401a7cd-764f-4da3-a316-6f2ce4140856",
   "metadata": {
    "execution": {
     "iopub.execute_input": "2022-02-26T21:06:09.516442Z",
     "iopub.status.busy": "2022-02-26T21:06:09.516442Z",
     "iopub.status.idle": "2022-02-26T21:06:09.547694Z",
     "shell.execute_reply": "2022-02-26T21:06:09.547694Z",
     "shell.execute_reply.started": "2022-02-26T21:06:09.516442Z"
    },
    "tags": []
   },
   "outputs": [],
   "source": [
    "freq_model = pd.read_csv('freq_rank.csv', header=None)\n",
    "freq_model.columns=['word', 'Rank']"
   ]
  },
  {
   "cell_type": "code",
   "execution_count": 12,
   "id": "387698c5-2390-4a9b-a4aa-0c3033716f8b",
   "metadata": {
    "execution": {
     "iopub.execute_input": "2022-02-26T16:41:01.826427Z",
     "iopub.status.busy": "2022-02-26T16:41:01.826427Z",
     "iopub.status.idle": "2022-02-26T16:41:01.842049Z",
     "shell.execute_reply": "2022-02-26T16:41:01.842049Z",
     "shell.execute_reply.started": "2022-02-26T16:41:01.826427Z"
    },
    "tags": []
   },
   "outputs": [
    {
     "data": {
      "text/html": [
       "<div>\n",
       "<style scoped>\n",
       "    .dataframe tbody tr th:only-of-type {\n",
       "        vertical-align: middle;\n",
       "    }\n",
       "\n",
       "    .dataframe tbody tr th {\n",
       "        vertical-align: top;\n",
       "    }\n",
       "\n",
       "    .dataframe thead th {\n",
       "        text-align: right;\n",
       "    }\n",
       "</style>\n",
       "<table border=\"1\" class=\"dataframe\">\n",
       "  <thead>\n",
       "    <tr style=\"text-align: right;\">\n",
       "      <th></th>\n",
       "      <th>word</th>\n",
       "      <th>Rank</th>\n",
       "    </tr>\n",
       "  </thead>\n",
       "  <tbody>\n",
       "    <tr>\n",
       "      <th>0</th>\n",
       "      <td>bones</td>\n",
       "      <td>1</td>\n",
       "    </tr>\n",
       "    <tr>\n",
       "      <th>1</th>\n",
       "      <td>sains</td>\n",
       "      <td>2</td>\n",
       "    </tr>\n",
       "    <tr>\n",
       "      <th>2</th>\n",
       "      <td>rones</td>\n",
       "      <td>3</td>\n",
       "    </tr>\n",
       "    <tr>\n",
       "      <th>3</th>\n",
       "      <td>sades</td>\n",
       "      <td>4</td>\n",
       "    </tr>\n",
       "    <tr>\n",
       "      <th>4</th>\n",
       "      <td>geres</td>\n",
       "      <td>5</td>\n",
       "    </tr>\n",
       "  </tbody>\n",
       "</table>\n",
       "</div>"
      ],
      "text/plain": [
       "    word  Rank\n",
       "0  bones     1\n",
       "1  sains     2\n",
       "2  rones     3\n",
       "3  sades     4\n",
       "4  geres     5"
      ]
     },
     "execution_count": 12,
     "metadata": {},
     "output_type": "execute_result"
    }
   ],
   "source": [
    "freq_model.head()"
   ]
  },
  {
   "cell_type": "code",
   "execution_count": 226,
   "id": "87cba3ae-362c-4e2d-b3ab-1fca4a01fa1a",
   "metadata": {
    "execution": {
     "iopub.execute_input": "2022-02-26T16:30:15.876152Z",
     "iopub.status.busy": "2022-02-26T16:30:15.876152Z",
     "iopub.status.idle": "2022-02-26T16:30:17.001174Z",
     "shell.execute_reply": "2022-02-26T16:30:17.001174Z",
     "shell.execute_reply.started": "2022-02-26T16:30:15.876152Z"
    },
    "tags": []
   },
   "outputs": [
    {
     "name": "stdout",
     "output_type": "stream",
     "text": [
      "[['sorns', 36], ['perns', 119], ['snies', 171], ['morns', 200], ['siens', 224], ['poons', 243], ['noles', 259], ['boons', 279], ['beins', 343], ['porns', 389]]\n"
     ]
    }
   ],
   "source": [
    "word_scores=[]\n",
    "for word in matches:\n",
    "    word_scores.append([word, int(freq_model[freq_model['word']==word]['Rank'])])\n",
    "    #word_scores.append([word, score_word(word, memory, freq)])\n",
    "sorted_list = sorted(word_scores, key = lambda x: (x[1]), reverse=False)\n",
    "print(sorted_list[0:10])"
   ]
  },
  {
   "cell_type": "markdown",
   "id": "2bbc1177-7add-45ea-8777-8799f1ff3302",
   "metadata": {},
   "source": [
    "## Quite different but they converge very well as we add more information. Lets test them!\n",
    "First... we need a way to play the game"
   ]
  },
  {
   "cell_type": "markdown",
   "id": "d8cde9aa-adc6-4bfc-8075-b4e99950f215",
   "metadata": {},
   "source": [
    "## Game with manual input\n",
    "Some code to give you the general idea. We will just import from seperate scripts for the games played by the computer"
   ]
  },
  {
   "cell_type": "code",
   "execution_count": 7,
   "id": "a08eb1eb-b6e4-40c4-9e27-13e22cc4a02f",
   "metadata": {
    "execution": {
     "iopub.execute_input": "2022-02-26T14:34:05.373242Z",
     "iopub.status.busy": "2022-02-26T14:34:05.373242Z",
     "iopub.status.idle": "2022-02-26T14:34:05.404490Z",
     "shell.execute_reply": "2022-02-26T14:34:05.404490Z",
     "shell.execute_reply.started": "2022-02-26T14:34:05.373242Z"
    },
    "tags": []
   },
   "outputs": [],
   "source": [
    "from wordleutils import *\n",
    "def play_wordle_manual(n_games, answerlist, answer='', random_answer=True):\n",
    "    d = enchant.Dict(\"en_US\")\n",
    "    if random_answer==True:\n",
    "        answer = random.choice(answerlist)\n",
    "        while d.check(answer)==False:\n",
    "            answer = random.choice(answerlist)\n",
    "    orange_letters_hist=[]\n",
    "    green_letters_hist=[]\n",
    "    grey_letters_hist=[]\n",
    "    for i in range(1,n_games+1):\n",
    "        guess = input(\"What is your guess? \")\n",
    "        while (len(guess)!=5) and (d.check(guess)==False):\n",
    "            print('Please only use 5 english letter words')\n",
    "            guess = input(\"What is your guess? \")\n",
    "        orange_letters, green_letters, grey_letters = wordle_game(answer, guess, i)\n",
    "        print(\"Guess: \", guess)\n",
    "        print('Round: ', i)\n",
    "        orange_letters, green_letters, grey_letters = wordle_game(answer, guess, i)\n",
    "        if (orange_letters==1) and (green_letters==1) and (grey_letters==1):\n",
    "            print('You won!')\n",
    "            winstr=''\n",
    "            prefix='\\033[48;5;2m\\033[38;5;232m '\n",
    "            for i in guess:\n",
    "                ii = prefix+i+' \\033[0;0m'\n",
    "                winstr+=ii\n",
    "            print(winstr)\n",
    "            break\n",
    "        else:\n",
    "            if orange_letters!=[]:\n",
    "                orange_letters_hist=orange_letters_hist+orange_letters\n",
    "            if green_letters!=[]:\n",
    "                green_letters_hist=green_letters_hist+green_letters\n",
    "            if grey_letters!=[]:\n",
    "                grey_letters_hist=grey_letters_hist+grey_letters\n",
    "            if (orange_letters_hist!=[]) and (green_letters_hist!=[]):\n",
    "                for letterpos in orange_letters_hist:\n",
    "                    if letterpos[1] in green_letters_hist:\n",
    "                        orange_letters_hist.pop(letterpos)\n",
    "        orange_letters_hist = [list(x) for x in set(tuple(x) for x in orange_letters_hist)]\n",
    "        green_letters_hist = [list(x) for x in set(tuple(x) for x in green_letters_hist)]\n",
    "        grey_letters_hist = list(set(grey_letters_hist))\n",
    "        outputstr = ''\n",
    "        outpos=1\n",
    "        for letter in guess:\n",
    "            if grey_letters!=[]:\n",
    "                if letter in grey_letters:\n",
    "                    string=\"\\033[48;5;240m\\033[38;5;231m \"+letter+\" \\033[0;0m\"\n",
    "            if orange_letters!=[]:\n",
    "                if [outpos,letter] in orange_letters:\n",
    "                    string=\"\\033[48;5;202m\\033[38;5;231m \"+letter+\" \\033[0;0m\"\n",
    "            if green_letters!=[]:\n",
    "                if [outpos,letter] in green_letters:\n",
    "                    string=\"\\033[48;5;2m\\033[38;5;231m \"+letter+\" \\033[0;0m\"\n",
    "            outputstr=outputstr+string+' \\033[0;0m'\n",
    "            outpos+=1\n",
    "        print(outputstr)\n",
    "\n",
    "        print('Orange: \\033[38;5;202m\\033[48;5;231m'+str(orange_letters_hist)+'\\033[0;0m')\n",
    "        print('Green: \\033[38;5;2m\\033[48;5;231m'+str(green_letters_hist)+'\\033[0;0m')\n",
    "        print('Grey: \\033[38;5;240m\\033[48;5;231m'+str(grey_letters_hist)+'\\033[0;0m')\n",
    "        if i == n_games:\n",
    "            print('Sorry, you lost. The answer was: ', answer)"
   ]
  },
  {
   "cell_type": "code",
   "execution_count": 77,
   "id": "21ff5eb2-fd47-4772-882f-072cc17ccc03",
   "metadata": {
    "execution": {
     "iopub.execute_input": "2022-02-26T14:35:03.665981Z",
     "iopub.status.busy": "2022-02-26T14:35:03.665981Z",
     "iopub.status.idle": "2022-02-26T14:36:06.202133Z",
     "shell.execute_reply": "2022-02-26T14:36:06.202133Z",
     "shell.execute_reply.started": "2022-02-26T14:35:03.665981Z"
    },
    "tags": []
   },
   "outputs": [
    {
     "name": "stdin",
     "output_type": "stream",
     "text": [
      "What is your guess?  crane\n"
     ]
    },
    {
     "name": "stdout",
     "output_type": "stream",
     "text": [
      "Guess:  crane\n",
      "Round:  1\n",
      "\u001b[48;5;2m\u001b[38;5;231m c \u001b[0;0m \u001b[0;0m\u001b[48;5;240m\u001b[38;5;231m r \u001b[0;0m \u001b[0;0m\u001b[48;5;240m\u001b[38;5;231m a \u001b[0;0m \u001b[0;0m\u001b[48;5;240m\u001b[38;5;231m n \u001b[0;0m \u001b[0;0m\u001b[48;5;240m\u001b[38;5;231m e \u001b[0;0m \u001b[0;0m\n",
      "Orange: \u001b[38;5;202m\u001b[48;5;231m[]\u001b[0;0m\n",
      "Green: \u001b[38;5;2m\u001b[48;5;231m[[1, 'c']]\u001b[0;0m\n",
      "Grey: \u001b[38;5;240m\u001b[48;5;231m['e', 'n', 'r', 'a']\u001b[0;0m\n"
     ]
    },
    {
     "name": "stdin",
     "output_type": "stream",
     "text": [
      "What is your guess?  cools\n"
     ]
    },
    {
     "name": "stdout",
     "output_type": "stream",
     "text": [
      "Guess:  cools\n",
      "Round:  2\n",
      "\u001b[48;5;2m\u001b[38;5;231m c \u001b[0;0m \u001b[0;0m\u001b[48;5;202m\u001b[38;5;231m o \u001b[0;0m \u001b[0;0m\u001b[48;5;2m\u001b[38;5;231m o \u001b[0;0m \u001b[0;0m\u001b[48;5;202m\u001b[38;5;231m l \u001b[0;0m \u001b[0;0m\u001b[48;5;2m\u001b[38;5;231m s \u001b[0;0m \u001b[0;0m\n",
      "Orange: \u001b[38;5;202m\u001b[48;5;231m[[4, 'l'], [2, 'o']]\u001b[0;0m\n",
      "Green: \u001b[38;5;2m\u001b[48;5;231m[[5, 's'], [1, 'c'], [3, 'o']]\u001b[0;0m\n",
      "Grey: \u001b[38;5;240m\u001b[48;5;231m['a', 'n', 'e', 'r']\u001b[0;0m\n"
     ]
    },
    {
     "name": "stdin",
     "output_type": "stream",
     "text": [
      "What is your guess?  clods\n"
     ]
    },
    {
     "name": "stdout",
     "output_type": "stream",
     "text": [
      "Guess:  clods\n",
      "Round:  3\n",
      "\u001b[48;5;2m\u001b[38;5;231m c \u001b[0;0m \u001b[0;0m\u001b[48;5;2m\u001b[38;5;231m l \u001b[0;0m \u001b[0;0m\u001b[48;5;2m\u001b[38;5;231m o \u001b[0;0m \u001b[0;0m\u001b[48;5;240m\u001b[38;5;231m d \u001b[0;0m \u001b[0;0m\u001b[48;5;2m\u001b[38;5;231m s \u001b[0;0m \u001b[0;0m\n",
      "Orange: \u001b[38;5;202m\u001b[48;5;231m[[4, 'l'], [2, 'o']]\u001b[0;0m\n",
      "Green: \u001b[38;5;2m\u001b[48;5;231m[[2, 'l'], [5, 's'], [1, 'c'], [3, 'o']]\u001b[0;0m\n",
      "Grey: \u001b[38;5;240m\u001b[48;5;231m['n', 'a', 'e', 'r', 'd']\u001b[0;0m\n"
     ]
    },
    {
     "name": "stdin",
     "output_type": "stream",
     "text": [
      "What is your guess?  clogs\n"
     ]
    },
    {
     "name": "stdout",
     "output_type": "stream",
     "text": [
      "Guess:  clogs\n",
      "Round:  4\n",
      "You won!\n",
      "\u001b[48;5;2m\u001b[38;5;232m c \u001b[0;0m\u001b[48;5;2m\u001b[38;5;232m l \u001b[0;0m\u001b[48;5;2m\u001b[38;5;232m o \u001b[0;0m\u001b[48;5;2m\u001b[38;5;232m g \u001b[0;0m\u001b[48;5;2m\u001b[38;5;232m s \u001b[0;0m\n"
     ]
    }
   ],
   "source": [
    "play_wordle_manual(5, answerlist, 'clogs', False)"
   ]
  },
  {
   "cell_type": "code",
   "execution_count": 8,
   "id": "ac41edd6-2d7a-40e9-a4d3-1a30f77e73c4",
   "metadata": {
    "execution": {
     "iopub.execute_input": "2022-02-26T21:13:29.427273Z",
     "iopub.status.busy": "2022-02-26T21:13:29.427273Z",
     "iopub.status.idle": "2022-02-26T21:13:29.442899Z",
     "shell.execute_reply": "2022-02-26T21:13:29.442899Z",
     "shell.execute_reply.started": "2022-02-26T21:13:29.427273Z"
    },
    "tags": []
   },
   "outputs": [],
   "source": [
    "from wordle_freq import play_wordle_freq\n",
    "from wordle_freq_pred import play_wordle_freq_pred"
   ]
  },
  {
   "cell_type": "code",
   "execution_count": 289,
   "id": "029cf969-f065-4992-84b4-5388fd24e4d8",
   "metadata": {
    "execution": {
     "iopub.execute_input": "2022-02-26T16:51:50.927702Z",
     "iopub.status.busy": "2022-02-26T16:51:50.927702Z",
     "iopub.status.idle": "2022-02-26T16:51:50.943322Z",
     "shell.execute_reply": "2022-02-26T16:51:50.943322Z",
     "shell.execute_reply.started": "2022-02-26T16:51:50.927702Z"
    },
    "tags": []
   },
   "outputs": [],
   "source": [
    "answer = 'limes'"
   ]
  },
  {
   "cell_type": "markdown",
   "id": "00063e1a-ffd3-4584-9a4b-69d1ab9fdc48",
   "metadata": {},
   "source": [
    "### original"
   ]
  },
  {
   "cell_type": "code",
   "execution_count": 290,
   "id": "62096de7-7001-4e88-a9bc-aceafa66c702",
   "metadata": {
    "execution": {
     "iopub.execute_input": "2022-02-26T16:51:52.130843Z",
     "iopub.status.busy": "2022-02-26T16:51:52.130843Z",
     "iopub.status.idle": "2022-02-26T16:52:05.834103Z",
     "shell.execute_reply": "2022-02-26T16:52:05.834103Z",
     "shell.execute_reply.started": "2022-02-26T16:51:52.130843Z"
    },
    "tags": []
   },
   "outputs": [
    {
     "name": "stdout",
     "output_type": "stream",
     "text": [
      "[1.  0.5 0.5 2.  2. ]\n",
      "Guess:  sores\n",
      "Round:  1\n",
      "\u001b[48;5;202m\u001b[38;5;231m s  \u001b[0;0m\u001b[48;5;240m\u001b[38;5;231m o  \u001b[0;0m\u001b[48;5;240m\u001b[38;5;231m r  \u001b[0;0m\u001b[48;5;2m\u001b[38;5;231m e  \u001b[0;0m\u001b[48;5;2m\u001b[38;5;231m s  \u001b[0;0m\n",
      "Orange: \u001b[38;5;202m\u001b[48;5;231m[[1, 's']]\u001b[0;0m\n",
      "Green: \u001b[38;5;2m\u001b[48;5;231m[[5, 's'], [4, 'e']]\u001b[0;0m\n",
      "Grey: \u001b[38;5;240m\u001b[48;5;231m['r', 'o']\u001b[0;0m\n",
      "[0.5 0.5 0.5 2.  2. ]\n",
      "Guess:  canes\n",
      "Round:  2\n",
      "\u001b[48;5;240m\u001b[38;5;231m c  \u001b[0;0m\u001b[48;5;240m\u001b[38;5;231m a  \u001b[0;0m\u001b[48;5;240m\u001b[38;5;231m n  \u001b[0;0m\u001b[48;5;2m\u001b[38;5;231m e  \u001b[0;0m\u001b[48;5;2m\u001b[38;5;231m s  \u001b[0;0m\n",
      "Orange: \u001b[38;5;202m\u001b[48;5;231m[[1, 's']]\u001b[0;0m\n",
      "Green: \u001b[38;5;2m\u001b[48;5;231m[[5, 's'], [4, 'e']]\u001b[0;0m\n",
      "Grey: \u001b[38;5;240m\u001b[48;5;231m['n', 'a', 'o', 'c', 'r']\u001b[0;0m\n",
      "[0.5 1.  1.  2.  2. ]\n",
      "Guess:  peles\n",
      "Round:  3\n",
      "\u001b[48;5;240m\u001b[38;5;231m p  \u001b[0;0m\u001b[48;5;202m\u001b[38;5;231m e  \u001b[0;0m\u001b[48;5;202m\u001b[38;5;231m l  \u001b[0;0m\u001b[48;5;2m\u001b[38;5;231m e  \u001b[0;0m\u001b[48;5;2m\u001b[38;5;231m s  \u001b[0;0m\n",
      "Orange: \u001b[38;5;202m\u001b[48;5;231m[[1, 's'], [2, 'e'], [3, 'l']]\u001b[0;0m\n",
      "Green: \u001b[38;5;2m\u001b[48;5;231m[[5, 's'], [4, 'e']]\u001b[0;0m\n",
      "Grey: \u001b[38;5;240m\u001b[48;5;231m['n', 'a', 'p', 'o', 'c', 'r']\u001b[0;0m\n",
      "[2.  2.  0.5 2.  2. ]\n",
      "Guess:  lites\n",
      "Round:  4\n",
      "\u001b[48;5;2m\u001b[38;5;231m l  \u001b[0;0m\u001b[48;5;2m\u001b[38;5;231m i  \u001b[0;0m\u001b[48;5;240m\u001b[38;5;231m t  \u001b[0;0m\u001b[48;5;2m\u001b[38;5;231m e  \u001b[0;0m\u001b[48;5;2m\u001b[38;5;231m s  \u001b[0;0m\n",
      "Orange: \u001b[38;5;202m\u001b[48;5;231m[[1, 's'], [2, 'e'], [3, 'l']]\u001b[0;0m\n",
      "Green: \u001b[38;5;2m\u001b[48;5;231m[[1, 'l'], [5, 's'], [4, 'e'], [2, 'i']]\u001b[0;0m\n",
      "Grey: \u001b[38;5;240m\u001b[48;5;231m['n', 'a', 'p', 'o', 't', 'c', 'r']\u001b[0;0m\n",
      "[2. 2. 2. 2. 2.]\n",
      "Guess:  limes\n",
      "Round:  5\n",
      "You won!\n",
      "Time: 13.687639713287354\n",
      "CPU Time: 13.703125\n",
      "\u001b[48;5;2m\u001b[38;5;232m l \u001b[0;0m\u001b[48;5;2m\u001b[38;5;232m i \u001b[0;0m\u001b[48;5;2m\u001b[38;5;232m m \u001b[0;0m\u001b[48;5;2m\u001b[38;5;232m e \u001b[0;0m\u001b[48;5;2m\u001b[38;5;232m s \u001b[0;0m\n"
     ]
    }
   ],
   "source": [
    "play_wordle_freq(5, wordsarr, answerlist, freq, False, answer)"
   ]
  },
  {
   "cell_type": "markdown",
   "id": "68325d49-d86a-496e-ace9-796ae2d17b79",
   "metadata": {},
   "source": [
    "### predictive"
   ]
  },
  {
   "cell_type": "code",
   "execution_count": 291,
   "id": "7a5a78b7-02fa-4ee1-822a-38c4fee71837",
   "metadata": {
    "execution": {
     "iopub.execute_input": "2022-02-26T16:52:05.834103Z",
     "iopub.status.busy": "2022-02-26T16:52:05.834103Z",
     "iopub.status.idle": "2022-02-26T16:52:30.381081Z",
     "shell.execute_reply": "2022-02-26T16:52:30.381081Z",
     "shell.execute_reply.started": "2022-02-26T16:52:05.834103Z"
    },
    "tags": []
   },
   "outputs": [
    {
     "name": "stdout",
     "output_type": "stream",
     "text": [
      "[0.5 0.5 0.5 2.  2. ]\n",
      "Guess:  bones\n",
      "Round:  1\n",
      "\u001b[48;5;240m\u001b[38;5;231m b  \u001b[0;0m\u001b[48;5;240m\u001b[38;5;231m o  \u001b[0;0m\u001b[48;5;240m\u001b[38;5;231m n  \u001b[0;0m\u001b[48;5;2m\u001b[38;5;231m e  \u001b[0;0m\u001b[48;5;2m\u001b[38;5;231m s  \u001b[0;0m\n",
      "Orange: \u001b[38;5;202m\u001b[48;5;231m[]\u001b[0;0m\n",
      "Green: \u001b[38;5;2m\u001b[48;5;231m[[5, 's'], [4, 'e']]\u001b[0;0m\n",
      "Grey: \u001b[38;5;240m\u001b[48;5;231m['b', 'n', 'o']\u001b[0;0m\n",
      "[1.  0.5 0.5 2.  2. ]\n",
      "Guess:  sades\n",
      "Round:  2\n",
      "\u001b[48;5;202m\u001b[38;5;231m s  \u001b[0;0m\u001b[48;5;240m\u001b[38;5;231m a  \u001b[0;0m\u001b[48;5;240m\u001b[38;5;231m d  \u001b[0;0m\u001b[48;5;2m\u001b[38;5;231m e  \u001b[0;0m\u001b[48;5;2m\u001b[38;5;231m s  \u001b[0;0m\n",
      "Orange: \u001b[38;5;202m\u001b[48;5;231m[[1, 's']]\u001b[0;0m\n",
      "Green: \u001b[38;5;2m\u001b[48;5;231m[[5, 's'], [4, 'e']]\u001b[0;0m\n",
      "Grey: \u001b[38;5;240m\u001b[48;5;231m['b', 'n', 'a', 'o', 'd']\u001b[0;0m\n",
      "[0.5 1.  0.5 2.  2. ]\n",
      "Guess:  geres\n",
      "Round:  3\n",
      "\u001b[48;5;240m\u001b[38;5;231m g  \u001b[0;0m\u001b[48;5;202m\u001b[38;5;231m e  \u001b[0;0m\u001b[48;5;240m\u001b[38;5;231m r  \u001b[0;0m\u001b[48;5;2m\u001b[38;5;231m e  \u001b[0;0m\u001b[48;5;2m\u001b[38;5;231m s  \u001b[0;0m\n",
      "Orange: \u001b[38;5;202m\u001b[48;5;231m[[1, 's'], [2, 'e']]\u001b[0;0m\n",
      "Green: \u001b[38;5;2m\u001b[48;5;231m[[5, 's'], [4, 'e']]\u001b[0;0m\n",
      "Grey: \u001b[38;5;240m\u001b[48;5;231m['b', 'g', 'n', 'a', 'o', 'r', 'd']\u001b[0;0m\n",
      "[1. 2. 1. 2. 2.]\n",
      "Guess:  miles\n",
      "Round:  4\n",
      "\u001b[48;5;202m\u001b[38;5;231m m  \u001b[0;0m\u001b[48;5;2m\u001b[38;5;231m i  \u001b[0;0m\u001b[48;5;202m\u001b[38;5;231m l  \u001b[0;0m\u001b[48;5;2m\u001b[38;5;231m e  \u001b[0;0m\u001b[48;5;2m\u001b[38;5;231m s  \u001b[0;0m\n",
      "Orange: \u001b[38;5;202m\u001b[48;5;231m[[1, 's'], [2, 'e'], [1, 'm'], [3, 'l']]\u001b[0;0m\n",
      "Green: \u001b[38;5;2m\u001b[48;5;231m[[5, 's'], [4, 'e'], [2, 'i']]\u001b[0;0m\n",
      "Grey: \u001b[38;5;240m\u001b[48;5;231m['b', 'g', 'n', 'a', 'o', 'r', 'd']\u001b[0;0m\n",
      "[2. 2. 2. 2. 2.]\n",
      "Guess:  limes\n",
      "Round:  5\n",
      "You won!\n",
      "Time: 24.531348943710327\n",
      "CPU Time: 24.53125\n",
      "\u001b[48;5;2m\u001b[38;5;232m l \u001b[0;0m\u001b[48;5;2m\u001b[38;5;232m i \u001b[0;0m\u001b[48;5;2m\u001b[38;5;232m m \u001b[0;0m\u001b[48;5;2m\u001b[38;5;232m e \u001b[0;0m\u001b[48;5;2m\u001b[38;5;232m s \u001b[0;0m\n"
     ]
    }
   ],
   "source": [
    "play_wordle_freq_pred(5, wordsarr, answerlist, freq_model, False, answer)"
   ]
  },
  {
   "cell_type": "markdown",
   "id": "0c4dccc4-55d2-479d-b3f1-9806c656c5fb",
   "metadata": {},
   "source": [
    "## They take different paths but without testing all words, it is hard to say what the improvement is"
   ]
  },
  {
   "cell_type": "markdown",
   "id": "719a90fc-b201-4f76-ac39-44d76a69ae3c",
   "metadata": {},
   "source": [
    "# AI\n",
    "Now... can we create something which doesnt me trying to 'guess' what the best aproach is for it? Can we just let it play the game and learn on its own?\n",
    "\n",
    "Although our computer has been playing the game itself. It has been just making predictions about what it thinks the next best guess is based on the past either by using a probabilistic model to predict the future or by doing analysis of the words and using that understanding to create a non-probabilistic approach. Getting to real time AI is more the scenario where the computer is aware of where it is in the game and what has happened so far and tries to make guesses that get it closer to its goal. Just like we would. But as we have seen with the frequency model, the boundaries between these approaches all blur slightly.\n",
    "\n",
    "One way of doing this would be to get the computer to play the game itself millions of times over and instead of forcing it to making only guesses we think are reasonable, let it guess whatever it wants but add some uncertainty to what it guesses. We then record every single decision it makes, the state of the game at that point and the final outcome. The state in this case would be out 'memory' array and the outcome some combination of whether it won or not and how much new information its guess created. Over time, we then build up a tree of decisions where each split is a game state and as we stumble upon better and better guesses for each state, we update the path we take from that state. Eventually, we will have a very good AI. But needless to say, that would take a HUGE amount of time and i have a day job and also i dont have a super computer.\n",
    "\n",
    "Instead, we can say that one 'goal' to pursue which is more easily measureable is how many remaining guesses are possible. If the computer just always tries to make a guess which reduces this bu the largest amount each time, it should move towards a solution. The one thing this 'agent' lacks, however, is that it never learns from its past. The agent described in the paragraph above, would get better over time."
   ]
  },
  {
   "cell_type": "markdown",
   "id": "80f0f3b0-f9fe-4a3b-9047-ccf7389b3695",
   "metadata": {
    "execution": {
     "iopub.execute_input": "2022-02-25T16:12:14.045269Z",
     "iopub.status.busy": "2022-02-25T16:12:14.045269Z",
     "iopub.status.idle": "2022-02-25T16:12:14.060897Z",
     "shell.execute_reply": "2022-02-25T16:12:14.060897Z",
     "shell.execute_reply.started": "2022-02-25T16:12:14.045269Z"
    },
    "tags": []
   },
   "source": [
    "## Now that we can play a full game with our code, lets work on this part to choose the word not through frequency score but based on how many of the remaining words it excludes.\n",
    "```python\n",
    "matches = get_possible_words(wordsarr, orange_letters_hist, green_letters_hist, grey_letters_hist)\n",
    "word_scores=[]\n",
    "for word in matches:\n",
    "    word_scores.append([word, score_word(word, freq)])\n",
    "word_scores=pd.DataFrame(word_scores)\n",
    "word_scores.columns=['word', 'score']\n",
    "word_scores=word_scores.sort_values(by=['score'],ascending=False)\n",
    "guess=str(word_scores['word'].iloc[0])\n",
    "```"
   ]
  },
  {
   "cell_type": "markdown",
   "id": "168af8c6-9f3e-4eff-b1ac-902b51518dba",
   "metadata": {},
   "source": [
    "# One way (almost certainly not the best way) \n",
    "### would be to take each possible word we might guess and assume all of its letters turn out to be grey. Then count how many possible words remain. The choice which results in the smallest number remaining is the one we will choose\n",
    "```python\n",
    "matches = get_possible_words(wordsarr, orange_letters_hist, green_letters_hist, grey_letters_hist)\n",
    "word_scores=[]\n",
    "for word in matches:\n",
    "    grey_l2 = grey_letters_hist.copy()\n",
    "    orange_l = [letter[1] for letter in orange_letters_hist]\n",
    "    green_l = [letter[1] for letter in green_letters_hist]\n",
    "    for letter in word:\n",
    "        if (letter not in green_l) and (letter not in orange_l):\n",
    "            grey_l2.append(letter)\n",
    "    remaining = len(get_possible_words(wordsarr, orange_letters_hist, green_letters_hist, grey_l2))\n",
    "    word_scores.append([word, remaining])\n",
    "word_scores=pd.DataFrame(word_scores)\n",
    "word_scores.columns=['word', 'score']\n",
    "word_scores=word_scores.sort_values(by=['score'],ascending=True)\n",
    "guess=str(word_scores['word'].iloc[0])\n",
    "```"
   ]
  },
  {
   "cell_type": "markdown",
   "id": "e16628b0-ae3b-41f6-bdf4-7da03a139d1f",
   "metadata": {},
   "source": [
    "### this will take much longer to run. but its obvious that we repeat the first check for every game.\n",
    "Lets rather just run that once and hard code the answer in to save a LOT of time.\n",
    "\n",
    "The frequency model opens with 'sores' the predictive one with 'bones'. Lets determine the opener here."
   ]
  },
  {
   "cell_type": "code",
   "execution_count": 28,
   "id": "282fdd7f-30c2-4917-af18-58883e0b1945",
   "metadata": {
    "execution": {
     "iopub.execute_input": "2022-02-26T20:40:19.649275Z",
     "iopub.status.busy": "2022-02-26T20:40:19.649275Z"
    },
    "tags": []
   },
   "outputs": [],
   "source": [
    "orange_letters_hist=[]\n",
    "green_letters_hist=[]\n",
    "grey_letters_hist=[]\n",
    "matches = get_possible_words_old(wordsarr, orange_letters_hist, green_letters_hist, grey_letters_hist)\n",
    "word_scores=[]\n",
    "for word in matches:\n",
    "    grey_l2 = grey_letters_hist.copy()\n",
    "    orange_l = [letter[1] for letter in orange_letters_hist]\n",
    "    green_l = [letter[1] for letter in green_letters_hist]\n",
    "    for letter in word:\n",
    "        if (letter not in green_l) and (letter not in orange_l):\n",
    "            grey_l2.append(letter)\n",
    "    remaining = len(get_possible_words_old(wordsarr, orange_letters_hist, green_letters_hist, grey_l2))\n",
    "    word_scores.append([word, remaining])\n",
    "word_scores=pd.DataFrame(word_scores)\n",
    "word_scores.columns=['word', 'score']\n",
    "word_scores=word_scores.sort_values(by=['score'],ascending=True)\n",
    "guess=str(word_scores['word'].iloc[0])"
   ]
  },
  {
   "cell_type": "code",
   "execution_count": 29,
   "id": "5d302960-972b-44c8-b27f-910a99cc4a2d",
   "metadata": {
    "tags": []
   },
   "outputs": [
    {
     "name": "stdout",
     "output_type": "stream",
     "text": [
      "toeas\n",
      "        word  score\n",
      "10692  toeas    554\n",
      "2928   stoae    554\n",
      "8157   aloes    560\n",
      "8635   aeons    565\n",
      "11747  soare    576\n"
     ]
    }
   ],
   "source": [
    "print(guess)\n",
    "print(word_scores.head())\n",
    "word_scores.to_csv('firstword.csv')"
   ]
  },
  {
   "cell_type": "markdown",
   "id": "1e1db6c1-686a-4196-81ae-e89d19ec44e0",
   "metadata": {},
   "source": [
    "toeas and stoae, although words... feel like cheating! So I will use aloes. This speeds things up A LOT. Lets also figure out what the next best guess is and lock that in too"
   ]
  },
  {
   "cell_type": "code",
   "execution_count": 30,
   "id": "8394c61e-6fe9-455c-9075-be4f2700a544",
   "metadata": {
    "execution": {
     "iopub.execute_input": "2022-02-26T00:02:14.155289Z",
     "iopub.status.busy": "2022-02-26T00:02:14.155289Z"
    },
    "tags": []
   },
   "outputs": [
    {
     "ename": "TypeError",
     "evalue": "get_possible_words() takes 2 positional arguments but 4 were given",
     "output_type": "error",
     "traceback": [
      "\u001b[1;31m---------------------------------------------------------------------------\u001b[0m",
      "\u001b[1;31mTypeError\u001b[0m                                 Traceback (most recent call last)",
      "\u001b[1;32m~\\AppData\\Local\\Temp/ipykernel_4988/4122103706.py\u001b[0m in \u001b[0;36m<module>\u001b[1;34m\u001b[0m\n\u001b[0;32m      2\u001b[0m \u001b[0mgreen_letters_hist\u001b[0m\u001b[1;33m=\u001b[0m\u001b[1;33m[\u001b[0m\u001b[1;33m]\u001b[0m\u001b[1;33m\u001b[0m\u001b[1;33m\u001b[0m\u001b[0m\n\u001b[0;32m      3\u001b[0m \u001b[0mgrey_letters_hist\u001b[0m\u001b[1;33m=\u001b[0m\u001b[1;33m[\u001b[0m\u001b[1;34m't'\u001b[0m\u001b[1;33m,\u001b[0m\u001b[1;34m'a'\u001b[0m\u001b[1;33m,\u001b[0m\u001b[1;34m'o'\u001b[0m\u001b[1;33m,\u001b[0m\u001b[1;34m'e'\u001b[0m\u001b[1;33m,\u001b[0m\u001b[1;34m's'\u001b[0m\u001b[1;33m]\u001b[0m\u001b[1;33m\u001b[0m\u001b[1;33m\u001b[0m\u001b[0m\n\u001b[1;32m----> 4\u001b[1;33m \u001b[0mmatches\u001b[0m \u001b[1;33m=\u001b[0m \u001b[0mget_possible_words\u001b[0m\u001b[1;33m(\u001b[0m\u001b[0mwordsarr\u001b[0m\u001b[1;33m,\u001b[0m \u001b[0morange_letters_hist\u001b[0m\u001b[1;33m,\u001b[0m \u001b[0mgreen_letters_hist\u001b[0m\u001b[1;33m,\u001b[0m \u001b[0mgrey_letters_hist\u001b[0m\u001b[1;33m)\u001b[0m\u001b[1;33m\u001b[0m\u001b[1;33m\u001b[0m\u001b[0m\n\u001b[0m\u001b[0;32m      5\u001b[0m \u001b[0mword_scores\u001b[0m\u001b[1;33m=\u001b[0m\u001b[1;33m[\u001b[0m\u001b[1;33m]\u001b[0m\u001b[1;33m\u001b[0m\u001b[1;33m\u001b[0m\u001b[0m\n\u001b[0;32m      6\u001b[0m \u001b[1;32mfor\u001b[0m \u001b[0mword\u001b[0m \u001b[1;32min\u001b[0m \u001b[0mmatches\u001b[0m\u001b[1;33m:\u001b[0m\u001b[1;33m\u001b[0m\u001b[1;33m\u001b[0m\u001b[0m\n",
      "\u001b[1;31mTypeError\u001b[0m: get_possible_words() takes 2 positional arguments but 4 were given"
     ]
    }
   ],
   "source": [
    "orange_letters_hist=[]\n",
    "green_letters_hist=[]\n",
    "grey_letters_hist=['t','a','o','e','s']\n",
    "matches = get_possible_words(wordsarr, orange_letters_hist, green_letters_hist, grey_letters_hist)\n",
    "word_scores=[]\n",
    "for word in matches:\n",
    "    grey_l2 = grey_letters_hist.copy()\n",
    "    orange_l = [letter[1] for letter in orange_letters_hist]\n",
    "    green_l = [letter[1] for letter in green_letters_hist]\n",
    "    for letter in word:\n",
    "        if (letter not in green_l) and (letter not in orange_l):\n",
    "            grey_l2.append(letter)\n",
    "    remaining = len(get_possible_words(wordsarr, orange_letters_hist, green_letters_hist, grey_l2))\n",
    "    word_scores.append([word, remaining])\n",
    "word_scores=pd.DataFrame(word_scores)\n",
    "word_scores.columns=['word', 'score']\n",
    "word_scores=word_scores.sort_values(by=['score'],ascending=True)\n",
    "guess=str(word_scores['word'].iloc[0])"
   ]
  },
  {
   "cell_type": "code",
   "execution_count": 31,
   "id": "e1463a9c-152b-47a5-9a18-1a8d392961ef",
   "metadata": {
    "tags": []
   },
   "outputs": [
    {
     "name": "stdout",
     "output_type": "stream",
     "text": [
      "toeas\n",
      "        word  score\n",
      "10692  toeas    554\n",
      "2928   stoae    554\n",
      "8157   aloes    560\n",
      "8635   aeons    565\n",
      "11747  soare    576\n"
     ]
    }
   ],
   "source": [
    "print(guess)\n",
    "print(word_scores.head())\n",
    "word_scores.to_csv('secondword.csv')"
   ]
  },
  {
   "cell_type": "markdown",
   "id": "d458c6f0-b8c7-4de0-987e-e772e3fb7857",
   "metadata": {},
   "source": [
    "I have to say, I'm not convinced but, hey, I'm not a computer. Lets try it out."
   ]
  },
  {
   "cell_type": "markdown",
   "id": "d85b1234-db6e-4928-a240-7be9eaf83847",
   "metadata": {},
   "source": [
    "toeas and stoae, although words... feel like cheating! So I will use aloes. This speeds things up A LOT. Lets also figure out what the next best guess is and lock that in too"
   ]
  },
  {
   "cell_type": "code",
   "execution_count": 9,
   "id": "fa308334-2e58-4974-812e-61700e388c7a",
   "metadata": {
    "execution": {
     "iopub.execute_input": "2022-02-26T21:17:39.371197Z",
     "iopub.status.busy": "2022-02-26T21:17:39.371197Z",
     "iopub.status.idle": "2022-02-26T21:17:39.386824Z",
     "shell.execute_reply": "2022-02-26T21:17:39.386824Z",
     "shell.execute_reply.started": "2022-02-26T21:17:39.371197Z"
    },
    "tags": []
   },
   "outputs": [],
   "source": [
    "from wordle_remaining import play_wordle_remaining\n",
    "from wordle_remaining_pred import play_wordle_remaining_pred\n",
    "from wordle_freq_pred import play_wordle_freq_pred"
   ]
  },
  {
   "cell_type": "code",
   "execution_count": 13,
   "id": "c15dd45f-898f-41d5-92bf-95886dac8b65",
   "metadata": {
    "execution": {
     "iopub.execute_input": "2022-02-26T21:17:45.871325Z",
     "iopub.status.busy": "2022-02-26T21:17:45.871325Z",
     "iopub.status.idle": "2022-02-26T21:18:04.793300Z",
     "shell.execute_reply": "2022-02-26T21:18:04.793300Z",
     "shell.execute_reply.started": "2022-02-26T21:17:45.871325Z"
    },
    "tags": []
   },
   "outputs": [
    {
     "name": "stdout",
     "output_type": "stream",
     "text": [
      "[0.5 0.5 0.5 0.5 1. ]\n",
      "Guess:  bones\n",
      "Round:  1\n",
      "\u001b[48;5;240m\u001b[38;5;231m b  \u001b[0;0m\u001b[48;5;240m\u001b[38;5;231m o  \u001b[0;0m\u001b[48;5;240m\u001b[38;5;231m n  \u001b[0;0m\u001b[48;5;240m\u001b[38;5;231m e  \u001b[0;0m\u001b[48;5;202m\u001b[38;5;231m s  \u001b[0;0m\n",
      "Orange: \u001b[38;5;202m\u001b[48;5;231m[[5, 's']]\u001b[0;0m\n",
      "Green: \u001b[38;5;2m\u001b[48;5;231m[]\u001b[0;0m\n",
      "Grey: \u001b[38;5;240m\u001b[48;5;231m['o', 'b', 'e', 'n']\u001b[0;0m\n",
      "[2.  1.  0.5 1.  0.5]\n",
      "Guess:  salad\n",
      "Round:  2\n",
      "\u001b[48;5;2m\u001b[38;5;231m s  \u001b[0;0m\u001b[48;5;202m\u001b[38;5;231m a  \u001b[0;0m\u001b[48;5;240m\u001b[38;5;231m l  \u001b[0;0m\u001b[48;5;202m\u001b[38;5;231m a  \u001b[0;0m\u001b[48;5;240m\u001b[38;5;231m d  \u001b[0;0m\n",
      "Orange: \u001b[38;5;202m\u001b[48;5;231m[[4, 'a'], [2, 'a'], [5, 's']]\u001b[0;0m\n",
      "Green: \u001b[38;5;2m\u001b[48;5;231m[[1, 's']]\u001b[0;0m\n",
      "Grey: \u001b[38;5;240m\u001b[48;5;231m['l', 'e', 'b', 'n', 'o', 'd']\u001b[0;0m\n",
      "[2.  0.5 1.  2.  1. ]\n",
      "Guess:  surra\n",
      "Round:  3\n",
      "\u001b[48;5;2m\u001b[38;5;231m s  \u001b[0;0m\u001b[48;5;240m\u001b[38;5;231m u  \u001b[0;0m\u001b[48;5;202m\u001b[38;5;231m r  \u001b[0;0m\u001b[48;5;2m\u001b[38;5;231m r  \u001b[0;0m\u001b[48;5;202m\u001b[38;5;231m a  \u001b[0;0m\n",
      "Orange: \u001b[38;5;202m\u001b[48;5;231m[[2, 'a'], [5, 'a'], [5, 's'], [4, 'a'], [3, 'r']]\u001b[0;0m\n",
      "Green: \u001b[38;5;2m\u001b[48;5;231m[[1, 's'], [4, 'r']]\u001b[0;0m\n",
      "Grey: \u001b[38;5;240m\u001b[48;5;231m['l', 'e', 'u', 'b', 'n', 'o', 'd']\u001b[0;0m\n",
      "[2.  0.5 2.  2.  0.5]\n",
      "Guess:  scary\n",
      "Round:  4\n",
      "\u001b[48;5;2m\u001b[38;5;231m s  \u001b[0;0m\u001b[48;5;240m\u001b[38;5;231m c  \u001b[0;0m\u001b[48;5;2m\u001b[38;5;231m a  \u001b[0;0m\u001b[48;5;2m\u001b[38;5;231m r  \u001b[0;0m\u001b[48;5;240m\u001b[38;5;231m y  \u001b[0;0m\n",
      "Orange: \u001b[38;5;202m\u001b[48;5;231m[[2, 'a'], [5, 'a'], [5, 's'], [4, 'a'], [3, 'r']]\u001b[0;0m\n",
      "Green: \u001b[38;5;2m\u001b[48;5;231m[[3, 'a'], [1, 's'], [4, 'r']]\u001b[0;0m\n",
      "Grey: \u001b[38;5;240m\u001b[48;5;231m['l', 'e', 'c', 'b', 'n', 'o', 'u', 'd', 'y']\u001b[0;0m\n",
      "[2. 1. 2. 2. 2.]\n",
      "Guess:  start\n",
      "Round:  5\n",
      "\u001b[48;5;2m\u001b[38;5;231m s  \u001b[0;0m\u001b[48;5;202m\u001b[38;5;231m t  \u001b[0;0m\u001b[48;5;2m\u001b[38;5;231m a  \u001b[0;0m\u001b[48;5;2m\u001b[38;5;231m r  \u001b[0;0m\u001b[48;5;2m\u001b[38;5;231m t  \u001b[0;0m\n",
      "Orange: \u001b[38;5;202m\u001b[48;5;231m[[2, 'a'], [5, 'a'], [5, 's'], [2, 't'], [4, 'a'], [3, 'r']]\u001b[0;0m\n",
      "Green: \u001b[38;5;2m\u001b[48;5;231m[[3, 'a'], [1, 's'], [4, 'r'], [5, 't']]\u001b[0;0m\n",
      "Grey: \u001b[38;5;240m\u001b[48;5;231m['c', 'l', 'e', 'b', 'n', 'o', 'u', 'd', 'y']\u001b[0;0m\n",
      "Sorry, you lost. The answer was:  smart\n",
      "Time: 15.438400268554688\n",
      "CPU Time: 15.390625\n"
     ]
    }
   ],
   "source": [
    "play_wordle_freq_pred(5, wordsarr, answerlist, freq_model, False, 'smart')"
   ]
  },
  {
   "cell_type": "code",
   "execution_count": 14,
   "id": "ff143ef3-ee6d-46db-ad2d-64c2ee612e48",
   "metadata": {
    "execution": {
     "iopub.execute_input": "2022-02-26T21:10:35.172003Z",
     "iopub.status.busy": "2022-02-26T21:10:35.172003Z",
     "iopub.status.idle": "2022-02-26T21:10:49.484660Z",
     "shell.execute_reply": "2022-02-26T21:10:49.484660Z",
     "shell.execute_reply.started": "2022-02-26T21:10:35.172003Z"
    },
    "tags": []
   },
   "outputs": [
    {
     "name": "stdout",
     "output_type": "stream",
     "text": [
      "[1.  0.5 0.5 1.  1. ]\n",
      "Guess:  toeas\n",
      "Round:  1\n",
      "\u001b[48;5;202m\u001b[38;5;231m t  \u001b[0;0m\u001b[48;5;240m\u001b[38;5;231m o  \u001b[0;0m\u001b[48;5;240m\u001b[38;5;231m e  \u001b[0;0m\u001b[48;5;202m\u001b[38;5;231m a  \u001b[0;0m\u001b[48;5;202m\u001b[38;5;231m s  \u001b[0;0m\n",
      "Orange: \u001b[38;5;202m\u001b[48;5;231m[[1, 't'], [4, 'a'], [5, 's']]\u001b[0;0m\n",
      "Green: \u001b[38;5;2m\u001b[48;5;231m[]\u001b[0;0m\n",
      "Grey: \u001b[38;5;240m\u001b[48;5;231m['o', 'e']\u001b[0;0m\n",
      "[0.5 0.5 0.5 0.5 0.5]\n",
      "Guess:  unhip\n",
      "Round:  2\n",
      "\u001b[48;5;240m\u001b[38;5;231m u  \u001b[0;0m\u001b[48;5;240m\u001b[38;5;231m n  \u001b[0;0m\u001b[48;5;240m\u001b[38;5;231m h  \u001b[0;0m\u001b[48;5;240m\u001b[38;5;231m i  \u001b[0;0m\u001b[48;5;240m\u001b[38;5;231m p  \u001b[0;0m\n",
      "Orange: \u001b[38;5;202m\u001b[48;5;231m[[1, 't'], [4, 'a'], [5, 's']]\u001b[0;0m\n",
      "Green: \u001b[38;5;2m\u001b[48;5;231m[]\u001b[0;0m\n",
      "Grey: \u001b[38;5;240m\u001b[48;5;231m['e', 'i', 'h', 'p', 'n', 'o', 'u']\u001b[0;0m\n",
      "[2.  1.  1.  0.5 1. ]\n",
      "Guess:  satyr\n",
      "Round:  3\n",
      "\u001b[48;5;2m\u001b[38;5;231m s  \u001b[0;0m\u001b[48;5;202m\u001b[38;5;231m a  \u001b[0;0m\u001b[48;5;202m\u001b[38;5;231m t  \u001b[0;0m\u001b[48;5;240m\u001b[38;5;231m y  \u001b[0;0m\u001b[48;5;202m\u001b[38;5;231m r  \u001b[0;0m\n",
      "Orange: \u001b[38;5;202m\u001b[48;5;231m[[1, 't'], [5, 'r'], [2, 'a'], [5, 's'], [3, 't'], [4, 'a']]\u001b[0;0m\n",
      "Green: \u001b[38;5;2m\u001b[48;5;231m[[1, 's']]\u001b[0;0m\n",
      "Grey: \u001b[38;5;240m\u001b[48;5;231m['e', 'i', 'h', 'p', 'n', 'o', 'u', 'y']\u001b[0;0m\n",
      "[2.  0.5 2.  2.  2. ]\n",
      "Guess:  skart\n",
      "Round:  4\n",
      "\u001b[48;5;2m\u001b[38;5;231m s  \u001b[0;0m\u001b[48;5;240m\u001b[38;5;231m k  \u001b[0;0m\u001b[48;5;2m\u001b[38;5;231m a  \u001b[0;0m\u001b[48;5;2m\u001b[38;5;231m r  \u001b[0;0m\u001b[48;5;2m\u001b[38;5;231m t  \u001b[0;0m\n",
      "Orange: \u001b[38;5;202m\u001b[48;5;231m[[1, 't'], [5, 'r'], [2, 'a'], [5, 's'], [3, 't'], [4, 'a']]\u001b[0;0m\n",
      "Green: \u001b[38;5;2m\u001b[48;5;231m[[3, 'a'], [1, 's'], [4, 'r'], [5, 't']]\u001b[0;0m\n",
      "Grey: \u001b[38;5;240m\u001b[48;5;231m['e', 'i', 'h', 'p', 'n', 'o', 'u', 'y', 'k']\u001b[0;0m\n",
      "[2.  0.5 2.  2.  2. ]\n",
      "Guess:  slart\n",
      "Round:  5\n",
      "\u001b[48;5;2m\u001b[38;5;231m s  \u001b[0;0m\u001b[48;5;240m\u001b[38;5;231m l  \u001b[0;0m\u001b[48;5;2m\u001b[38;5;231m a  \u001b[0;0m\u001b[48;5;2m\u001b[38;5;231m r  \u001b[0;0m\u001b[48;5;2m\u001b[38;5;231m t  \u001b[0;0m\n",
      "Orange: \u001b[38;5;202m\u001b[48;5;231m[[1, 't'], [5, 'r'], [2, 'a'], [5, 's'], [3, 't'], [4, 'a']]\u001b[0;0m\n",
      "Green: \u001b[38;5;2m\u001b[48;5;231m[[3, 'a'], [1, 's'], [4, 'r'], [5, 't']]\u001b[0;0m\n",
      "Grey: \u001b[38;5;240m\u001b[48;5;231m['l', 'e', 'i', 'h', 'p', 'n', 'o', 'u', 'y', 'k']\u001b[0;0m\n",
      "Sorry, you lost. The answer was:  smart\n",
      "Time: 5.287708520889282\n",
      "CPU Time: 5.25\n"
     ]
    }
   ],
   "source": [
    "play_wordle_remaining(5, 'toeas', 'unhip', wordsarr, answerlist, freq, False, 'smart')"
   ]
  },
  {
   "cell_type": "code",
   "execution_count": 10,
   "id": "348124dd-8974-4ed8-95f6-02ded6c39098",
   "metadata": {
    "execution": {
     "iopub.execute_input": "2022-02-26T21:06:33.463969Z",
     "iopub.status.busy": "2022-02-26T21:06:33.463969Z",
     "iopub.status.idle": "2022-02-26T21:06:41.010872Z",
     "shell.execute_reply": "2022-02-26T21:06:41.010872Z",
     "shell.execute_reply.started": "2022-02-26T21:06:33.463969Z"
    }
   },
   "outputs": [
    {
     "name": "stdout",
     "output_type": "stream",
     "text": [
      "[1.  0.5 0.5 1.  1. ]\n",
      "Guess:  toeas\n",
      "Round:  1\n",
      "\u001b[48;5;202m\u001b[38;5;231m t  \u001b[0;0m\u001b[48;5;240m\u001b[38;5;231m o  \u001b[0;0m\u001b[48;5;240m\u001b[38;5;231m e  \u001b[0;0m\u001b[48;5;202m\u001b[38;5;231m a  \u001b[0;0m\u001b[48;5;202m\u001b[38;5;231m s  \u001b[0;0m\n",
      "Orange: \u001b[38;5;202m\u001b[48;5;231m[[4, 'a'], [5, 's'], [1, 't']]\u001b[0;0m\n",
      "Green: \u001b[38;5;2m\u001b[48;5;231m[]\u001b[0;0m\n",
      "Grey: \u001b[38;5;240m\u001b[48;5;231m['o', 'e']\u001b[0;0m\n",
      "[0.5 0.5 0.5 0.5 0.5]\n",
      "Guess:  unhip\n",
      "Round:  2\n",
      "\u001b[48;5;240m\u001b[38;5;231m u  \u001b[0;0m\u001b[48;5;240m\u001b[38;5;231m n  \u001b[0;0m\u001b[48;5;240m\u001b[38;5;231m h  \u001b[0;0m\u001b[48;5;240m\u001b[38;5;231m i  \u001b[0;0m\u001b[48;5;240m\u001b[38;5;231m p  \u001b[0;0m\n",
      "Orange: \u001b[38;5;202m\u001b[48;5;231m[[4, 'a'], [5, 's'], [1, 't']]\u001b[0;0m\n",
      "Green: \u001b[38;5;2m\u001b[48;5;231m[]\u001b[0;0m\n",
      "Grey: \u001b[38;5;240m\u001b[48;5;231m['e', 'p', 'i', 'o', 'n', 'u', 'h']\u001b[0;0m\n",
      "[2.  0.5 2.  2.  2. ]\n",
      "Guess:  slart\n",
      "Round:  3\n",
      "\u001b[48;5;2m\u001b[38;5;231m s  \u001b[0;0m\u001b[48;5;240m\u001b[38;5;231m l  \u001b[0;0m\u001b[48;5;2m\u001b[38;5;231m a  \u001b[0;0m\u001b[48;5;2m\u001b[38;5;231m r  \u001b[0;0m\u001b[48;5;2m\u001b[38;5;231m t  \u001b[0;0m\n",
      "Orange: \u001b[38;5;202m\u001b[48;5;231m[[4, 'a'], [5, 's'], [1, 't']]\u001b[0;0m\n",
      "Green: \u001b[38;5;2m\u001b[48;5;231m[[1, 's'], [3, 'a'], [4, 'r'], [5, 't']]\u001b[0;0m\n",
      "Grey: \u001b[38;5;240m\u001b[48;5;231m['e', 'p', 'i', 'o', 'n', 'u', 'l', 'h']\u001b[0;0m\n",
      "[2. 2. 2. 2. 2.]\n",
      "Guess:  smart\n",
      "Round:  4\n",
      "You won!\n",
      "Time: 7.515637636184692\n",
      "CPU Time: 7.515625\n",
      "\u001b[48;5;2m\u001b[38;5;232m s \u001b[0;0m\u001b[48;5;2m\u001b[38;5;232m m \u001b[0;0m\u001b[48;5;2m\u001b[38;5;232m a \u001b[0;0m\u001b[48;5;2m\u001b[38;5;232m r \u001b[0;0m\u001b[48;5;2m\u001b[38;5;232m t \u001b[0;0m\n"
     ]
    }
   ],
   "source": [
    "play_wordle_remaining_pred(5, 'toeas', 'unhip', wordsarr, answerlist, freq_model, False, 'smart')"
   ]
  },
  {
   "cell_type": "markdown",
   "id": "a0a88f9e-0ff4-4bee-9cc1-6c88f193236e",
   "metadata": {},
   "source": [
    "## Predictive version actually got to an answer where every other try has failed on 'smart'! Lets try more examples"
   ]
  },
  {
   "cell_type": "code",
   "execution_count": 26,
   "id": "e4ef6cc3",
   "metadata": {},
   "outputs": [
    {
     "name": "stdout",
     "output_type": "stream",
     "text": [
      "[0.5 0.5 0.5 1.  0.5]\n",
      "Guess:  bones\n",
      "Round:  1\n",
      "\u001b[48;5;240m\u001b[38;5;231m b  \u001b[0;0m\u001b[48;5;240m\u001b[38;5;231m o  \u001b[0;0m\u001b[48;5;240m\u001b[38;5;231m n  \u001b[0;0m\u001b[48;5;202m\u001b[38;5;231m e  \u001b[0;0m\u001b[48;5;240m\u001b[38;5;231m s  \u001b[0;0m\n",
      "Orange: \u001b[38;5;202m\u001b[48;5;231m[[4, 'e']]\u001b[0;0m\n",
      "Green: \u001b[38;5;2m\u001b[48;5;231m[]\u001b[0;0m\n",
      "Grey: \u001b[38;5;240m\u001b[48;5;231m['o', 'b', 's', 'n']\u001b[0;0m\n",
      "[0.5 0.5 1.  0.5 1. ]\n",
      "Guess:  paire\n",
      "Round:  2\n",
      "\u001b[48;5;240m\u001b[38;5;231m p  \u001b[0;0m\u001b[48;5;240m\u001b[38;5;231m a  \u001b[0;0m\u001b[48;5;202m\u001b[38;5;231m i  \u001b[0;0m\u001b[48;5;240m\u001b[38;5;231m r  \u001b[0;0m\u001b[48;5;202m\u001b[38;5;231m e  \u001b[0;0m\n",
      "Orange: \u001b[38;5;202m\u001b[48;5;231m[[3, 'i'], [4, 'e'], [5, 'e']]\u001b[0;0m\n",
      "Green: \u001b[38;5;2m\u001b[48;5;231m[]\u001b[0;0m\n",
      "Grey: \u001b[38;5;240m\u001b[48;5;231m['a', 's', 'p', 'b', 'n', 'r', 'o']\u001b[0;0m\n",
      "[0.5 1.  1.  1.  0.5]\n",
      "Guess:  field\n",
      "Round:  3\n",
      "\u001b[48;5;240m\u001b[38;5;231m f  \u001b[0;0m\u001b[48;5;202m\u001b[38;5;231m i  \u001b[0;0m\u001b[48;5;202m\u001b[38;5;231m e  \u001b[0;0m\u001b[48;5;202m\u001b[38;5;231m l  \u001b[0;0m\u001b[48;5;240m\u001b[38;5;231m d  \u001b[0;0m\n",
      "Orange: \u001b[38;5;202m\u001b[48;5;231m[[4, 'e'], [4, 'l'], [2, 'i'], [3, 'i'], [5, 'e'], [3, 'e']]\u001b[0;0m\n",
      "Green: \u001b[38;5;2m\u001b[48;5;231m[]\u001b[0;0m\n",
      "Grey: \u001b[38;5;240m\u001b[48;5;231m['a', 'f', 's', 'p', 'b', 'n', 'r', 'o', 'd']\u001b[0;0m\n",
      "[0.5 2.  2.  2.  0.5]\n",
      "Guess:  melik\n",
      "Round:  4\n",
      "\u001b[48;5;240m\u001b[38;5;231m m  \u001b[0;0m\u001b[48;5;2m\u001b[38;5;231m e  \u001b[0;0m\u001b[48;5;2m\u001b[38;5;231m l  \u001b[0;0m\u001b[48;5;2m\u001b[38;5;231m i  \u001b[0;0m\u001b[48;5;240m\u001b[38;5;231m k  \u001b[0;0m\n",
      "Orange: \u001b[38;5;202m\u001b[48;5;231m[[4, 'e'], [2, 'i'], [3, 'i'], [3, 'e'], [5, 'e'], [4, 'l']]\u001b[0;0m\n",
      "Green: \u001b[38;5;2m\u001b[48;5;231m[[3, 'l'], [2, 'e'], [4, 'i']]\u001b[0;0m\n",
      "Grey: \u001b[38;5;240m\u001b[48;5;231m['a', 'f', 's', 'm', 'b', 'p', 'n', 'r', 'o', 'd', 'k']\u001b[0;0m\n",
      "[0.5 2.  2.  2.  0.5]\n",
      "Guess:  telic\n",
      "Round:  5\n",
      "\u001b[48;5;240m\u001b[38;5;231m t  \u001b[0;0m\u001b[48;5;2m\u001b[38;5;231m e  \u001b[0;0m\u001b[48;5;2m\u001b[38;5;231m l  \u001b[0;0m\u001b[48;5;2m\u001b[38;5;231m i  \u001b[0;0m\u001b[48;5;240m\u001b[38;5;231m c  \u001b[0;0m\n",
      "Orange: \u001b[38;5;202m\u001b[48;5;231m[[4, 'e'], [4, 'l'], [2, 'i'], [3, 'i'], [5, 'e'], [3, 'e']]\u001b[0;0m\n",
      "Green: \u001b[38;5;2m\u001b[48;5;231m[[3, 'l'], [2, 'e'], [4, 'i']]\u001b[0;0m\n",
      "Grey: \u001b[38;5;240m\u001b[48;5;231m['c', 'a', 't', 'f', 's', 'm', 'b', 'p', 'n', 'r', 'o', 'd', 'k']\u001b[0;0m\n",
      "Sorry, you lost. The answer was:  helix\n",
      "Time: 14.600123167037964\n",
      "CPU Time: 14.609375\n"
     ]
    }
   ],
   "source": [
    "play_wordle_freq_pred(5, wordsarr, answerlist, freq_model, False, 'helix')"
   ]
  },
  {
   "cell_type": "code",
   "execution_count": 27,
   "id": "f7c31c87",
   "metadata": {},
   "outputs": [
    {
     "name": "stdout",
     "output_type": "stream",
     "text": [
      "[0.5 0.5 1.  0.5 0.5]\n",
      "Guess:  toeas\n",
      "Round:  1\n",
      "\u001b[48;5;240m\u001b[38;5;231m t  \u001b[0;0m\u001b[48;5;240m\u001b[38;5;231m o  \u001b[0;0m\u001b[48;5;202m\u001b[38;5;231m e  \u001b[0;0m\u001b[48;5;240m\u001b[38;5;231m a  \u001b[0;0m\u001b[48;5;240m\u001b[38;5;231m s  \u001b[0;0m\n",
      "Orange: \u001b[38;5;202m\u001b[48;5;231m[[3, 'e']]\u001b[0;0m\n",
      "Green: \u001b[38;5;2m\u001b[48;5;231m[]\u001b[0;0m\n",
      "Grey: \u001b[38;5;240m\u001b[48;5;231m['o', 's', 'a', 't']\u001b[0;0m\n",
      "[0.5 0.5 1.  2.  0.5]\n",
      "Guess:  unhip\n",
      "Round:  2\n",
      "\u001b[48;5;240m\u001b[38;5;231m u  \u001b[0;0m\u001b[48;5;240m\u001b[38;5;231m n  \u001b[0;0m\u001b[48;5;202m\u001b[38;5;231m h  \u001b[0;0m\u001b[48;5;2m\u001b[38;5;231m i  \u001b[0;0m\u001b[48;5;240m\u001b[38;5;231m p  \u001b[0;0m\n",
      "Orange: \u001b[38;5;202m\u001b[48;5;231m[[3, 'h'], [3, 'e']]\u001b[0;0m\n",
      "Green: \u001b[38;5;2m\u001b[48;5;231m[[4, 'i']]\u001b[0;0m\n",
      "Grey: \u001b[38;5;240m\u001b[48;5;231m['a', 't', 's', 'p', 'n', 'o', 'u']\u001b[0;0m\n",
      "[2. 2. 2. 2. 2.]\n",
      "Guess:  helix\n",
      "Round:  3\n",
      "You won!\n",
      "Time: 2.3062961101531982\n",
      "CPU Time: 2.328125\n",
      "\u001b[48;5;2m\u001b[38;5;232m h \u001b[0;0m\u001b[48;5;2m\u001b[38;5;232m e \u001b[0;0m\u001b[48;5;2m\u001b[38;5;232m l \u001b[0;0m\u001b[48;5;2m\u001b[38;5;232m i \u001b[0;0m\u001b[48;5;2m\u001b[38;5;232m x \u001b[0;0m\n"
     ]
    }
   ],
   "source": [
    "play_wordle_remaining(5, 'toeas', 'unhip', wordsarr, answerlist, freq, False, 'helix')"
   ]
  },
  {
   "cell_type": "code",
   "execution_count": 25,
   "id": "06b806eb",
   "metadata": {},
   "outputs": [
    {
     "name": "stdout",
     "output_type": "stream",
     "text": [
      "[0.5 0.5 1.  0.5 0.5]\n",
      "Guess:  toeas\n",
      "Round:  1\n",
      "\u001b[48;5;240m\u001b[38;5;231m t  \u001b[0;0m\u001b[48;5;240m\u001b[38;5;231m o  \u001b[0;0m\u001b[48;5;202m\u001b[38;5;231m e  \u001b[0;0m\u001b[48;5;240m\u001b[38;5;231m a  \u001b[0;0m\u001b[48;5;240m\u001b[38;5;231m s  \u001b[0;0m\n",
      "Orange: \u001b[38;5;202m\u001b[48;5;231m[[3, 'e']]\u001b[0;0m\n",
      "Green: \u001b[38;5;2m\u001b[48;5;231m[]\u001b[0;0m\n",
      "Grey: \u001b[38;5;240m\u001b[48;5;231m['o', 's', 'a', 't']\u001b[0;0m\n",
      "[0.5 0.5 1.  2.  0.5]\n",
      "Guess:  unhip\n",
      "Round:  2\n",
      "\u001b[48;5;240m\u001b[38;5;231m u  \u001b[0;0m\u001b[48;5;240m\u001b[38;5;231m n  \u001b[0;0m\u001b[48;5;202m\u001b[38;5;231m h  \u001b[0;0m\u001b[48;5;2m\u001b[38;5;231m i  \u001b[0;0m\u001b[48;5;240m\u001b[38;5;231m p  \u001b[0;0m\n",
      "Orange: \u001b[38;5;202m\u001b[48;5;231m[[3, 'h'], [3, 'e']]\u001b[0;0m\n",
      "Green: \u001b[38;5;2m\u001b[48;5;231m[[4, 'i']]\u001b[0;0m\n",
      "Grey: \u001b[38;5;240m\u001b[48;5;231m['a', 't', 's', 'p', 'n', 'o', 'u']\u001b[0;0m\n",
      "[2.  2.  0.5 2.  0.5]\n",
      "Guess:  hemic\n",
      "Round:  3\n",
      "\u001b[48;5;2m\u001b[38;5;231m h  \u001b[0;0m\u001b[48;5;2m\u001b[38;5;231m e  \u001b[0;0m\u001b[48;5;240m\u001b[38;5;231m m  \u001b[0;0m\u001b[48;5;2m\u001b[38;5;231m i  \u001b[0;0m\u001b[48;5;240m\u001b[38;5;231m c  \u001b[0;0m\n",
      "Orange: \u001b[38;5;202m\u001b[48;5;231m[[3, 'h'], [3, 'e']]\u001b[0;0m\n",
      "Green: \u001b[38;5;2m\u001b[48;5;231m[[2, 'e'], [4, 'i'], [1, 'h']]\u001b[0;0m\n",
      "Grey: \u001b[38;5;240m\u001b[48;5;231m['c', 'a', 't', 's', 'm', 'p', 'n', 'o', 'u']\u001b[0;0m\n",
      "[2. 2. 2. 2. 2.]\n",
      "Guess:  helix\n",
      "Round:  4\n",
      "You won!\n",
      "Time: 2.3159327507019043\n",
      "CPU Time: 2.3125\n",
      "\u001b[48;5;2m\u001b[38;5;232m h \u001b[0;0m\u001b[48;5;2m\u001b[38;5;232m e \u001b[0;0m\u001b[48;5;2m\u001b[38;5;232m l \u001b[0;0m\u001b[48;5;2m\u001b[38;5;232m i \u001b[0;0m\u001b[48;5;2m\u001b[38;5;232m x \u001b[0;0m\n"
     ]
    }
   ],
   "source": [
    "play_wordle_remaining_pred(5, 'toeas', 'unhip', wordsarr, answerlist, freq_model, False, 'helix')"
   ]
  },
  {
   "cell_type": "markdown",
   "id": "d032515a",
   "metadata": {},
   "source": [
    "#### they definitely seem to perform better than the models not looking at remaining options"
   ]
  }
 ],
 "metadata": {
  "kernelspec": {
   "display_name": "Python 3 (ipykernel)",
   "language": "python",
   "name": "python3"
  },
  "language_info": {
   "codemirror_mode": {
    "name": "ipython",
    "version": 3
   },
   "file_extension": ".py",
   "mimetype": "text/x-python",
   "name": "python",
   "nbconvert_exporter": "python",
   "pygments_lexer": "ipython3",
   "version": "3.9.7"
  }
 },
 "nbformat": 4,
 "nbformat_minor": 5
}
